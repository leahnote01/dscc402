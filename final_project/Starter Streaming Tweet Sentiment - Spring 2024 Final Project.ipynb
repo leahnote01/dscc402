{
 "cells": [
  {
   "cell_type": "markdown",
   "metadata": {
    "application/vnd.databricks.v1+cell": {
     "cellMetadata": {},
     "inputWidgets": {},
     "nuid": "fc749083-2211-485c-943f-640e198b2c70",
     "showTitle": false,
     "title": ""
    }
   },
   "source": [
    "## DSCC202-402 Data Science at Scale Final Project\n",
    "### Tracking Tweet sentiment at scale using a pretrained transformer (classifier)\n",
    "<p>Consider the following illustration of the end to end system that you will be building.  Each student should do their own work.  The project will demonstrate your understanding of Spark Streaming, the medalion data architecture using Delta Lake, Spark Inference at Scale using an MLflow packaged model as well as Exploritory Data Analysis and System Tracking and Monitoring.</p>\n",
    "<br><br>\n",
    "<img src=\"https://data-science-at-scale.s3.amazonaws.com/images/pipeline.drawio.png\">\n",
    "\n",
    "<p>\n",
    "You will be pulling an updated copy of the course GitHub repositiory: <a href=\"https://github.com/lpalum/dscc202-402-spring2024\">The Repo</a>.  If you are unclear on how to pull an updated copy using the GitHub command line, the following <a href=\"https://techwritingmatters.com/how-to-update-your-forked-repository-on-github\">document</a> is helpful.  Be sure to add the professors and TAs as collaborators on your project. \n",
    "\n",
    "- lpalum@gmail.com GitHub ID: lpalum\n",
    "- ajay.anand@rochester.edu GitHub ID: ajayan12\n",
    "- divyamunot1999@gmail.com GitHub ID: divyamunot\n",
    "- ylong6@u.Rochester.edu GitHub ID: NinaLong2077\n",
    "\n",
    "Once you have updates your fork of the repository you should see the following template project that is resident in the final_project directory.\n",
    "</p>\n",
    "\n",
    "<img src=\"https://data-science-at-scale.s3.amazonaws.com/images/notebooks.drawio.png\">\n",
    "\n",
    "<p>\n",
    "You can then pull your project into the Databrick Workspace using the <a href=\"https://www.databricks.training/step-by-step/importing-courseware-from-github/index.html\">Repos</a> feature.\n",
    "Each student is expected to submit the URL of their project on GitHub with their code checked in on the main/master branch.  This illustration highlights the branching scheme that you may use to work on your code in steps and then merge your submission into your master branch before submitting.\n",
    "</p>\n",
    "<img src=\"https://data-science-at-scale.s3.amazonaws.com/images/github.drawio.png\">\n",
    "<p>\n",
    "Work your way through this notebook which will give you the steps required to submit a complete and compliant project.  The following illustration and associated data dictionary specifies the transformations and data that you are to generate for each step in the medallion pipeline.\n",
    "</p>\n",
    "<br><br>\n",
    "<img src=\"https://data-science-at-scale.s3.amazonaws.com/images/dataframes.drawio.png\">\n",
    "\n",
    "#### Bronze Data - raw ingest\n",
    "- date - string in the source json\n",
    "- user - string in the source json\n",
    "- text - tweet string in the source json\n",
    "- sentiment - the given sentiment of the text as determined by an unknown model that is provided in the source json\n",
    "- source_file - the path of the source json file the this row of data was read from\n",
    "- processing_time - a timestamp of when you read this row from the source json\n",
    "\n",
    "#### Silver Data - Bronze Preprocessing\n",
    "- timestamp - convert date string in the bronze data to a timestamp\n",
    "- mention - every @username mentioned in the text string in the bronze data gets a row in this silver data table.\n",
    "- cleaned_text - the bronze text data with the mentions (@username) removed.\n",
    "- sentiment - the given sentiment that was associated with the text in the bronze table.\n",
    "\n",
    "#### Gold Data - Silver Table Inference\n",
    "- timestamp - the timestamp from the silver data table rows\n",
    "- mention - the mention from the silver data table rows\n",
    "- cleaned_text - the cleaned_text from the silver data table rows\n",
    "- sentiment - the given sentiment from the silver data table rows\n",
    "- predicted_score - score out of 100 from the Hugging Face Sentiment Transformer\n",
    "- predicted_sentiment - string representation of the sentiment\n",
    "- sentiment_id - 0 for negative and 1 for postive associated with the given sentiment\n",
    "- predicted_sentiment_id - 0 for negative and 1 for positive assocaited with the Hugging Face Sentiment Transformer\n",
    "\n",
    "#### Application Data - Gold Table Aggregation\n",
    "- min_timestamp - the oldest timestamp on a given mention (@username)\n",
    "- max_timestamp - the newest timestamp on a given mention (@username)\n",
    "- mention - the user (@username) that this row pertains to.\n",
    "- negative - total negative tweets directed at this mention (@username)\n",
    "- neutral - total neutral tweets directed at this mention (@username)\n",
    "- positive - total positive tweets directed at this mention (@username)\n",
    "\n",
    "When you are designing your approach, one of the main decisions that you will need to make is how you are going to orchestrate the streaming data processing in your pipeline.  There are several valid approaches.  First, you may choose to start the bronze_stream and let it complete (read and append all of the source data) before preceeding and starting up the silver_stream.  This approach has latency associated with it but it will allow your code to proceed in a linear fashion and process all the data by the end of your notebook execution.  Another potential approach is to start all the streams and have a \"watch\" method to determine when the pipeline has processed sufficient or all of the source data before stopping and displaying results.  Both of these approaches are valid and have different implications on how you will trigger your steams and how you will gate the execution of your pipeline.  Think through how you want to proceed and ask questions if you need guidance. The following references may be helpful:\n",
    "- [Spark Structured Streaming Programming Guide](https://spark.apache.org/docs/latest/structured-streaming-programming-guide.html)\n",
    "- [Databricks Autoloader - Cloudfiles](https://docs.databricks.com/en/ingestion/auto-loader/index.html)\n",
    "\n",
    "### Be sure that your project runs end to end when *Run all* is executued on this notebook! (15 Points out of 60)"
   ]
  },
  {
   "cell_type": "code",
   "execution_count": 0,
   "metadata": {
    "application/vnd.databricks.v1+cell": {
     "cellMetadata": {
      "byteLimit": 2048000,
      "rowLimit": 10000
     },
     "inputWidgets": {},
     "nuid": "4ca00610-32d6-459d-aa26-dbfa98da7c8d",
     "showTitle": false,
     "title": ""
    }
   },
   "outputs": [],
   "source": [
    "! pip install pyspark"
   ]
  },
  {
   "cell_type": "code",
   "execution_count": 0,
   "metadata": {
    "application/vnd.databricks.v1+cell": {
     "cellMetadata": {
      "byteLimit": 2048000,
      "rowLimit": 10000
     },
     "inputWidgets": {},
     "nuid": "068f25d0-1387-4342-89cf-ce82a8d614ce",
     "showTitle": true,
     "title": "Pull in the Includes & Utiltites"
    }
   },
   "outputs": [],
   "source": [
    "%run ./includes/includes"
   ]
  },
  {
   "cell_type": "markdown",
   "metadata": {
    "application/vnd.databricks.v1+cell": {
     "cellMetadata": {},
     "inputWidgets": {},
     "nuid": "b988408e-05b9-4bcc-99a3-2f0dc0d910d9",
     "showTitle": false,
     "title": ""
    }
   },
   "source": [
    "### VERSION 2 VARIABLES\n",
    "I have created two versions of checkpoints and delta files for each stage because I encountered some issues when trying to insert my logs. It is possible that the data got mixed up during the process, so I decided to use version 2 variables to ensure accuracy and consistency. But the code will be executed with the original variables. <br>\n",
    "\n",
    "< Optimization Variables>\n",
    "- BRONZE_CHECKPOINT_2 & BRONZE_DELTA_2 (*please ignore*)\n",
    "- SILVER_CHECKPOINT_2 & SILVER_DELTA_2 (*please ignore*)\n",
    "- GOLD_CHECKPOINT_2 & GOLD_DELTA_2 (*please ignore*)\n",
    "\n"
   ]
  },
  {
   "cell_type": "code",
   "execution_count": 0,
   "metadata": {
    "application/vnd.databricks.v1+cell": {
     "cellMetadata": {
      "byteLimit": 2048000,
      "rowLimit": 10000
     },
     "inputWidgets": {},
     "nuid": "6512bf1b-50e0-4a4b-84a9-e280a6260b56",
     "showTitle": true,
     "title": "Notebook Control Widgets (maybe helpful)"
    }
   },
   "outputs": [],
   "source": [
    "\"\"\"\n",
    "Adding a widget to the notebook to control the clearing of a previous run.\n",
    "or stopping the active streams using routines defined in the utilities notebook\n",
    "\"\"\"\n",
    "dbutils.widgets.removeAll()\n",
    "\n",
    "dbutils.widgets.dropdown(\"clear_previous_run\", \"No\", [\"No\",\"Yes\"])\n",
    "if (getArgument(\"clear_previous_run\") == \"Yes\"):\n",
    "    clear_previous_run()\n",
    "    print(\"Cleared all previous data.\")\n",
    "\n",
    "dbutils.widgets.dropdown(\"stop_streams\", \"No\", [\"No\",\"Yes\"])\n",
    "if (getArgument(\"stop_streams\") == \"Yes\"):\n",
    "    stop_all_streams()\n",
    "    print(\"Stopped all active streams.\")\n",
    "\n",
    "from delta import *\n",
    "dbutils.widgets.dropdown(\"optimize_tables\", \"No\", [\"No\",\"Yes\"])\n",
    "if (getArgument(\"optimize_tables\") == \"Yes\"):\n",
    "    # Suck up those small files that we have been appending.\n",
    "    DeltaTable.forPath(spark, BRONZE_DELTA).optimize().executeCompaction()\n",
    "    # Suck up those small files that we have been appending.\n",
    "    DeltaTable.forPath(spark, SILVER_DELTA).optimize().executeCompaction()\n",
    "    # Suck up those small files that we have been appending.\n",
    "    DeltaTable.forPath(spark, GOLD_DELTA).optimize().executeCompaction()\n",
    "    print(\"Optimized all of the Delta Tables\")"
   ]
  },
  {
   "cell_type": "markdown",
   "metadata": {
    "application/vnd.databricks.v1+cell": {
     "cellMetadata": {},
     "inputWidgets": {},
     "nuid": "e8ce7c13-7f8f-4e11-b50c-fdaebbcf3f99",
     "showTitle": false,
     "title": ""
    }
   },
   "source": [
    "## 1.0 Import your libraries here...\n",
    "- Are your shuffle partitions consistent with your cluster and your workload?\n",
    "- Do you have the necessary libraries to perform the required operations in the pipeline/application?"
   ]
  },
  {
   "cell_type": "code",
   "execution_count": 0,
   "metadata": {
    "application/vnd.databricks.v1+cell": {
     "cellMetadata": {
      "byteLimit": 2048000,
      "rowLimit": 10000
     },
     "inputWidgets": {},
     "nuid": "67bafbb7-d34e-4e86-b159-b2e062faa1d0",
     "showTitle": false,
     "title": ""
    }
   },
   "outputs": [],
   "source": [
    "# Standard and enhanced imports for PySpark functionality\n",
    "import time\n",
    "import matplotlib.pyplot as plt\n",
    "import mlflow\n",
    "from mlflow.pyfunc import spark_udf\n",
    "from sklearn.metrics import precision_score, recall_score, f1_score, confusion_matrix, ConfusionMatrixDisplay\n",
    "\n",
    "# PySpark SQL functions and types\n",
    "from pyspark.sql import functions as F\n",
    "from pyspark.sql.types import StructType, StructField, StringType, IntegerType, TimestampType, LongType\n",
    "from pyspark.sql.window import Window\n",
    "\n",
    "# Combining multiple PySpark SQL functions into one import statement\n",
    "from pyspark.sql.functions import (\n",
    "    input_file_name, current_timestamp, isnan, isnull, when, count, desc, col, to_date, to_timestamp, explode,\n",
    "    split, length, regexp_replace, expr, countDistinct, sum as spark_sum\n",
    ")\n",
    "from delta.tables import *\n",
    "start_time = time.time()\n"
   ]
  },
  {
   "cell_type": "markdown",
   "metadata": {
    "application/vnd.databricks.v1+cell": {
     "cellMetadata": {},
     "inputWidgets": {},
     "nuid": "2b7624b4-0aa5-46b7-9767-52f462b2c574",
     "showTitle": false,
     "title": ""
    }
   },
   "source": [
    "## 2.0 Use the utility functions to ...\n",
    "- Read the source file directory listing\n",
    "- Count the source files (how many are there?)\n",
    "- print the contents of one of the files"
   ]
  },
  {
   "cell_type": "code",
   "execution_count": 0,
   "metadata": {
    "application/vnd.databricks.v1+cell": {
     "cellMetadata": {
      "byteLimit": 2048000,
      "rowLimit": 10000
     },
     "inputWidgets": {},
     "nuid": "a59749d5-e45d-460f-9be1-33652cda2ea5",
     "showTitle": false,
     "title": ""
    }
   },
   "outputs": [],
   "source": [
    "# ENTER YOUR CODE HERE\n",
    "\n",
    "data_frame_files = get_source_listing_df()\n",
    "print(data_frame_files)\n",
    "\n",
    "file_count = len(data_frame_files) - 1\n",
    "print(f\"Number of source files: {file_count}\")\n",
    "\n",
    "if file_count > 0:\n",
    "    name = data_frame_files.iloc[1]['File Name']\n",
    "    print(f\"\\nContents of {name}:\")\n",
    "    contents = show_s3_file_contents(name)\n",
    "    print(contents.decode('utf-8'))\n",
    "else:\n",
    "    print(\"FILES NOT EXISTED\")"
   ]
  },
  {
   "cell_type": "markdown",
   "metadata": {
    "application/vnd.databricks.v1+cell": {
     "cellMetadata": {},
     "inputWidgets": {},
     "nuid": "1676aed7-527f-4ea7-9d3b-52544e8c1e37",
     "showTitle": false,
     "title": ""
    }
   },
   "source": [
    "## 3.0 Transform the Raw Data to Bronze Data using a stream\n",
    "- define the schema for the raw data\n",
    "- setup a read stream using cloudfiles and the source data format\n",
    "- setup a write stream using cloudfiles to append to the bronze delta table\n",
    "- enforce schema\n",
    "- allow a new schema to be merged into the bronze delta table\n",
    "- Use the defined BRONZE_CHECKPOINT and BRONZE_DELTA paths defines in the includes\n",
    "- name your raw to bronze stream as bronze_stream\n",
    "- transform the raw data to the bronze data using the data definition at the top of the notebook"
   ]
  },
  {
   "cell_type": "code",
   "execution_count": 0,
   "metadata": {
    "application/vnd.databricks.v1+cell": {
     "cellMetadata": {
      "byteLimit": 2048000,
      "rowLimit": 10000
     },
     "inputWidgets": {},
     "nuid": "c4e37574-9885-4908-bf97-609d140a8818",
     "showTitle": false,
     "title": ""
    }
   },
   "outputs": [],
   "source": [
    "#ENTER YOUR CODE HERE\n",
    "inputDataSchema = StructType([\n",
    "    StructField('date', StringType(), True),\n",
    "    StructField('sentiment', StringType(), True),\n",
    "    StructField('text', StringType(), True),\n",
    "    StructField('user', StringType(), True),\n",
    "])\n",
    "dbutils.fs.rm(USER_DIR + \"/bronze.delta\", True)\n",
    "dbutils.fs.rm(USER_DIR + \"/bronze.checkpoint\", True)\n",
    "\n",
    "\n",
    "# READ DATA STREAM\n",
    "raw_data_stream = (spark.readStream.format(\"cloudFiles\")\n",
    "        .option(\"cloudFiles.format\", \"json\")\n",
    "        .option(\"maxFilesPerTrigger\", 1)\n",
    "        .schema(inputDataSchema) \n",
    "        .load(TWEET_SOURCE_PATH)\n",
    "        .selectExpr(\"*\",\"_metadata.file_name as source_file_name\",\"_metadata.file_modification_time as processing_time_stamp\"))    \n",
    "activity_query = (raw_data_stream.writeStream\n",
    "        .queryName(\"bronze_stream\") \n",
    "        .format(\"delta\")\n",
    "        .option(\"checkpointLocation\", BRONZE_CHECKPOINT)\n",
    "        .option(\"mergeSchema\", \"true\")\n",
    "        .outputMode(\"append\") \n",
    "        .start(BRONZE_DELTA) )\n",
    "    \n",
    "# activity_query.awaitTermination(100)\n",
    "# activity_query.stop()\n",
    "\n",
    "\n",
    "#Show 10 records\n",
    "bronze_table = spark.read.load(BRONZE_DELTA)\n",
    "print(bronze_table.show(10))"
   ]
  },
  {
   "cell_type": "code",
   "execution_count": 0,
   "metadata": {
    "application/vnd.databricks.v1+cell": {
     "cellMetadata": {
      "byteLimit": 2048000,
      "implicitDf": true,
      "rowLimit": 10000
     },
     "inputWidgets": {},
     "nuid": "73881c30-356e-45fd-b5eb-87602258b21f",
     "showTitle": false,
     "title": ""
    }
   },
   "outputs": [],
   "source": [
    "%sql\n",
    "SET spark.sql.legacy.timeParserPolicy = LEGACY;"
   ]
  },
  {
   "cell_type": "markdown",
   "metadata": {
    "application/vnd.databricks.v1+cell": {
     "cellMetadata": {},
     "inputWidgets": {},
     "nuid": "9bc3e824-d218-43e5-a43b-4c6dbe31950d",
     "showTitle": false,
     "title": ""
    }
   },
   "source": [
    "## 4.0 Bronze Data Exploratory Data Analysis\n",
    "- How many tweets are captured in your Bronze Table?\n",
    "- Are there any columns that contain Nan or Null values?  If so how many and what will you do in your silver transforms to address this?\n",
    "- Count the number of tweets by each unique user handle and sort the data by descending count.\n",
    "- How many tweets have at least one mention (@) how many tweet have no mentions (@)\n",
    "- Plot a bar chart that shows the top 20 tweeters (users)\n"
   ]
  },
  {
   "cell_type": "code",
   "execution_count": 0,
   "metadata": {
    "application/vnd.databricks.v1+cell": {
     "cellMetadata": {
      "byteLimit": 2048000,
      "rowLimit": 10000
     },
     "inputWidgets": {},
     "nuid": "091ec59c-d968-4acf-b56f-cc9178cd0693",
     "showTitle": false,
     "title": ""
    }
   },
   "outputs": [],
   "source": [
    "# HOW MANY TWEETS IN BRONZE TABLE\n",
    "total_tweets_bronze = bronze_table.count()\n",
    "print(\"Total Number of rows = \" , total_tweets_bronze)\n",
    "\n",
    "# HOW MANY COLUMNS OF NAN VALUE IN BRONZE TABLE\n",
    "dict = {col:bronze_table.filter(bronze_table[col].isNull()).count() for col in bronze_table.columns}\n",
    "print(\"Count of columns having nan/null column-wise\")\n",
    "print(dict)\n",
    "\n",
    "print(\"There is no Nan/ Null values in Bronze Table\")\n",
    "print(\"If there is nan/ Null values, I will remove them or assign the average values into them if the values are int. \")\n",
    "\n",
    "# COUNT THE NUMBERS OF TWEETS\n",
    "input_table = spark.read.format(\"delta\").load(BRONZE_DELTA)\n",
    "query = input_table.groupBy(\"user\").count().orderBy(\"count\", ascending=False)\n",
    "print(query.show(10))\n",
    "\n",
    "# MENTION COUNTS\n",
    "mention_count_bronze = input_table.filter(col(\"text\").like(\"%@%\")).count()\n",
    "zero_tweets_bronze = total_tweets_bronze - mention_count_bronze\n",
    "print(\"Number of tweets with at least 1 mention: \", mention_count_bronze)\n",
    "\n",
    "print(\"Number of tweets with 0 mentions: \", mention_count_bronze)\n",
    "\n",
    "\n",
    "# PLOT TOP USERS\n",
    "top_users = query.limit(20).toPandas()\n",
    "\n",
    "plt.figure(figsize=(30, 10))\n",
    "plt.bar(top_users['user'], top_users['count'])\n",
    "plt.xlabel('Users Name')\n",
    "plt.ylabel('Number of Tweets')\n",
    "plt.title('Top 20 Users')\n",
    "plt.show()"
   ]
  },
  {
   "cell_type": "markdown",
   "metadata": {
    "application/vnd.databricks.v1+cell": {
     "cellMetadata": {},
     "inputWidgets": {},
     "nuid": "38c290b9-a42a-4551-857b-3f461b8a1be6",
     "showTitle": false,
     "title": ""
    }
   },
   "source": [
    "## 5.0 Transform the Bronze Data to Silver Data using a stream\n",
    "- setup a read stream on your bronze delta table\n",
    "- setup a write stream to append to the silver delta table\n",
    "- Use the defined SILVER_CHECKPOINT and SILVER_DELTA paths in the includes\n",
    "- name your bronze to silver stream as silver_stream\n",
    "- transform the bronze data to the silver data using the data definition at the top of the notebook"
   ]
  },
  {
   "cell_type": "code",
   "execution_count": 0,
   "metadata": {
    "application/vnd.databricks.v1+cell": {
     "cellMetadata": {
      "byteLimit": 2048000,
      "rowLimit": 10000
     },
     "inputWidgets": {},
     "nuid": "b25a6d01-d29b-45f3-9d9d-8e3c2ee02c78",
     "showTitle": false,
     "title": ""
    }
   },
   "outputs": [],
   "source": [
    "# CLEAN UP PREVIOUS DATA\n",
    "dbutils.fs.rm(USER_DIR + \"/silver.delta\", True)\n",
    "dbutils.fs.rm(USER_DIR + \"/silver.checkpoint\", True)"
   ]
  },
  {
   "cell_type": "code",
   "execution_count": 0,
   "metadata": {
    "application/vnd.databricks.v1+cell": {
     "cellMetadata": {
      "byteLimit": 2048000,
      "rowLimit": 10000
     },
     "inputWidgets": {},
     "nuid": "65b029cb-ba45-4625-a9c1-d0d410a4962b",
     "showTitle": false,
     "title": ""
    }
   },
   "outputs": [],
   "source": [
    "# READ BRONZE TABLE\n",
    "read_bronze_stream =  (\n",
    "        spark.readStream\n",
    "        .format(\"delta\")\n",
    "        .load(BRONZE_DELTA)\n",
    "    )\n",
    "\n",
    "\n",
    "# READ BRONZE STREAM\n",
    "read_bronze_stream = ( read_bronze_stream\n",
    "                      .withColumn(\"timestamp\", to_date(read_bronze_stream[\"date\"], \"EEE MMM dd HH:mm:ss zzz yyyy\"))\n",
    "                      .withColumn(\"mentions\", explode(split(col(\"text\"), \" \"))).filter(col(\"mentions\").startswith(\"@\")).filter(col(\"mentions\") != \"@\")\n",
    "                      .withColumn(\"cleaned_text\", regexp_replace(col(\"text\"), \"@[a-zA-Z0-9_]+\", \"\")).select(\"timestamp\", \"mentions\", \"cleaned_text\", \"sentiment\"))\n",
    "\n",
    "\n",
    "# WRITE STREAM TO SILVER \n",
    "write_silver_stream = (\n",
    "            read_bronze_stream.writeStream.format(\"delta\")\n",
    "                    .queryName(\"silver_stream\") \n",
    "                    .option(\"checkpointLocation\", SILVER_CHECKPOINT)\n",
    "                    .outputMode(\"append\")\n",
    "                    .start(SILVER_DELTA)\n",
    "             )\n",
    "\n",
    "\n",
    "# write_silver_stream.awaitTermination(80)\n",
    "# write_silver_stream.stop()\n",
    "\n",
    "silver_table = spark.read.load(SILVER_DELTA)\n",
    "print(silver_table.show(20))"
   ]
  },
  {
   "cell_type": "markdown",
   "metadata": {
    "application/vnd.databricks.v1+cell": {
     "cellMetadata": {},
     "inputWidgets": {},
     "nuid": "9ee38aba-e340-4766-8339-71ef2ecfde3a",
     "showTitle": false,
     "title": ""
    }
   },
   "source": [
    "## 6.0 Transform the Silver Data to Gold Data using a stream\n",
    "- setup a read stream on your silver delta table\n",
    "- setup a write stream to append to the gold delta table\n",
    "- Use the defined GOLD_CHECKPOINT and GOLD_DELTA paths defines in the includes\n",
    "- name your silver to gold stream as gold_stream\n",
    "- transform the silver data to the gold data using the data definition at the top of the notebook\n",
    "- Load the pretrained transformer sentiment classifier from the MODEL_NAME at the production level from the MLflow registry\n",
    "- Use a spark UDF to parallelize the inference across your silver data"
   ]
  },
  {
   "cell_type": "code",
   "execution_count": 0,
   "metadata": {
    "application/vnd.databricks.v1+cell": {
     "cellMetadata": {
      "byteLimit": 2048000,
      "rowLimit": 10000
     },
     "inputWidgets": {},
     "nuid": "f4237ce7-1125-4b75-8c61-b5b65901cf63",
     "showTitle": false,
     "title": ""
    }
   },
   "outputs": [],
   "source": [
    "# CHECKING DIRECTORY \n",
    "dbutils.fs.ls(USER_DIR)\n"
   ]
  },
  {
   "cell_type": "code",
   "execution_count": 0,
   "metadata": {
    "application/vnd.databricks.v1+cell": {
     "cellMetadata": {
      "byteLimit": 2048000,
      "rowLimit": 10000
     },
     "inputWidgets": {},
     "nuid": "8c4ddd8a-f153-445a-9e09-4fdb39fb625a",
     "showTitle": false,
     "title": ""
    }
   },
   "outputs": [],
   "source": [
    "# REMOVE PREVIOUS DATA\n",
    "\n",
    "dbutils.fs.rm(USER_DIR + \"/gold.delta\", True)\n",
    "dbutils.fs.rm(USER_DIR + \"/gold.checkpoint\", True)"
   ]
  },
  {
   "cell_type": "code",
   "execution_count": 0,
   "metadata": {
    "application/vnd.databricks.v1+cell": {
     "cellMetadata": {
      "byteLimit": 2048000,
      "rowLimit": 10000
     },
     "inputWidgets": {},
     "nuid": "31e8949d-c016-44a7-9f03-65f471dfd22d",
     "showTitle": false,
     "title": ""
    }
   },
   "outputs": [],
   "source": [
    "# ENTER YOUR CODE HERE\n",
    "# SENTIMENT MODEL\n",
    "sent_model = spark_udf(spark, \"models:/\" + MODEL_NAME + \"/production\")\n",
    "\n",
    "\n",
    "# READ STREAM GOLD\n",
    "read_silver_stream = (\n",
    "        spark.readStream\n",
    "        .format(\"delta\")\n",
    "        .load(SILVER_DELTA)\n",
    ")\n",
    "# COMMENT FOR SENTIMENT ANALYSIS : For neutral comments, I will handle them as negative as I've found that it will not be any big influences on the analysis.\n",
    "\n",
    "read_silver_stream = (read_silver_stream.withColumn(\"predicted\", sent_model(\"cleaned_text\"))\n",
    "                      .select(\"timestamp\", \"mentions\", \"cleaned_text\", \"sentiment\", col(\"predicted.score\").alias(\"predicted_score\"), col(\"predicted.label\").alias(\"predicted_sentiment\"))\n",
    "                      .withColumn(\"sentiment_id\", when(col(\"sentiment\") == \"positive\", 1).otherwise(-1))\n",
    "                      .withColumn(\"predicted_sentiment_id\", when(col(\"predicted_sentiment\") == \"POS\", 1).otherwise(-1)))\n",
    "\n",
    "# WRITE STREAM GOLD\n",
    "write_gold_stream = (read_silver_stream.writeStream.format(\"delta\")\n",
    "                    .queryName(\"gold_stream\")\n",
    "                    .option(\"checkpointLocation\", GOLD_CHECKPOINT)\n",
    "                    .outputMode(\"append\")\n",
    "                    .start(GOLD_DELTA))\n",
    "\n",
    "\n",
    "# write_gold_stream.awaitTermination(200)\n",
    "# write_gold_stream.stop()"
   ]
  },
  {
   "cell_type": "code",
   "execution_count": 0,
   "metadata": {
    "application/vnd.databricks.v1+cell": {
     "cellMetadata": {
      "byteLimit": 2048000,
      "rowLimit": 10000
     },
     "inputWidgets": {},
     "nuid": "e05cefb0-ef70-4ccc-8eff-2e6f74d0f0f9",
     "showTitle": false,
     "title": ""
    }
   },
   "outputs": [],
   "source": [
    "gold_table = spark.read.load(GOLD_DELTA)\n",
    "print(gold_table.show(20))"
   ]
  },
  {
   "cell_type": "markdown",
   "metadata": {
    "application/vnd.databricks.v1+cell": {
     "cellMetadata": {},
     "inputWidgets": {},
     "nuid": "0494d8b4-5a55-47fc-af12-47325f34a303",
     "showTitle": false,
     "title": ""
    }
   },
   "source": [
    "## 7.0 Capture the accuracy metrics from the gold table in MLflow\n",
    "Store the following in an MLflow experiment run:\n",
    "- Store the precision, recall, and F1-score as MLflow metrics\n",
    "- Store an image of the confusion matrix as an MLflow artifact\n",
    "- Store the mdoel name and the MLflow version that was used as an MLflow parameters\n",
    "- Store the version of the Delta Table (input-silver) as an MLflow parameter"
   ]
  },
  {
   "cell_type": "code",
   "execution_count": 0,
   "metadata": {
    "application/vnd.databricks.v1+cell": {
     "cellMetadata": {
      "byteLimit": 2048000,
      "rowLimit": 10000
     },
     "inputWidgets": {},
     "nuid": "3bb174ad-67e4-4b0a-be36-ff20a760ee8b",
     "showTitle": false,
     "title": ""
    }
   },
   "outputs": [],
   "source": [
    "# ENTER YOUR CODE HERE\n",
    "\n",
    "# PREDICTED RESULT WITH SENTIMENT MODEL\n",
    "predicted_result = gold_table.withColumn(\"predicted_sentiment_id\", when(col(\"predicted_sentiment_id\") == 0, -1).otherwise(col(\"predicted_sentiment_id\")))\n",
    "predicted_sentiment = predicted_result.select(\"predicted_sentiment_id\").collect()\n",
    "\n",
    "# CONFUSION MATRIX\n",
    "predicted_sentiment_ids = gold_table.select(\"predicted_sentiment_id\").collect()\n",
    "true_sentiment_ids = gold_table.select(\"sentiment_id\").collect()\n",
    "\n",
    "recall = recall_score(true_sentiment_ids, predicted_sentiment_ids)\n",
    "f1 = f1_score(true_sentiment_ids, predicted_sentiment_ids)\n",
    "precision = precision_score(true_sentiment_ids, predicted_sentiment_ids)\n",
    "\n",
    "print(\"recall =\", recall)\n",
    "print(\"f1 =\", f1)\n",
    "print(\"model_precesion =\", precision)\n",
    "\n",
    "confusion_mtx = confusion_matrix(true_sentiment_ids, predicted_sentiment_ids)\n",
    "my_confusion_matrix = ConfusionMatrixDisplay(confusion_matrix=confusion_mtx, display_labels=[\"Negative\", \"Positive\"])\n",
    "my_confusion_matrix.plot()\n",
    "\n",
    "# SAVE TO THE FOLDER\n",
    "dbutils.fs.mkdirs(\"dbfs:/images\")\n",
    "my_confusion_matrix.figure_.savefig(\"/dbfs/images/confusion_matrix.PNG\")\n",
    "\n",
    "# ML FLOW\n",
    "silver_table_version = DeltaTable.forPath(spark, SILVER_DELTA).history().toPandas()[\"version\"].iloc[-1]\n",
    "\n",
    "with mlflow.start_run():\n",
    "    mlflow.log_param(\"MODEL_NAME\", MODEL_NAME)\n",
    "    mlflow.log_param(\"mlflow_version\", mlflow.version.VERSION)\n",
    "    mlflow.log_param(\"silver_table_version\", silver_table_version)\n",
    "    mlflow.log_metric(\"recall\", recall)\n",
    "    mlflow.log_metric(\"precision\", precision)\n",
    "    mlflow.log_metric(\"f1\", f1)\n"
   ]
  },
  {
   "cell_type": "markdown",
   "metadata": {
    "application/vnd.databricks.v1+cell": {
     "cellMetadata": {},
     "inputWidgets": {},
     "nuid": "81e0e2de-b872-4698-81cc-1669646c2183",
     "showTitle": false,
     "title": ""
    }
   },
   "source": [
    "## 8.0 Application Data Processing and Visualization\n",
    "- How many mentions are there in the gold data total?\n",
    "- Count the number of neutral, positive and negative tweets for each mention in new columns\n",
    "- Capture the total for each mention in a new column\n",
    "- Sort the mention count totals in descending order\n",
    "- Plot a bar chart of the top 20 mentions with positive sentiment (the people who are in favor)\n",
    "- Plot a bar chart of the top 20 mentions with negative sentiment (the people who are the vilians)\n",
    "\n",
    "You may want to use the \"Loop Application\" widget to control whether you repeateded display the latest plots while the data comes in from your streams before moving on to the next section and cleaning up your run.\n",
    "\n",
    "*note: A mention is a specific twitter user that has been \"mentioned\" in a tweet with an @user reference."
   ]
  },
  {
   "cell_type": "code",
   "execution_count": 0,
   "metadata": {
    "application/vnd.databricks.v1+cell": {
     "cellMetadata": {
      "byteLimit": 2048000,
      "rowLimit": 10000
     },
     "inputWidgets": {},
     "nuid": "8250667b-eaa5-48a1-90c7-bfe11e666e32",
     "showTitle": false,
     "title": ""
    }
   },
   "outputs": [],
   "source": [
    "# ENTER YOUR CODE HERE\n",
    "distinct_mentions = gold_table.select(countDistinct(\"mentions\")).collect()[0][0]\n",
    "print(\"Total Mentions is:\", distinct_mentions)\n",
    "\n",
    "grouped_mentions_df = gold_table.groupBy(\"mentions\", \"sentiment\").count()\n",
    "pivot_df = grouped_mentions_df.groupBy(\"mentions\").pivot(\"sentiment\").sum(\"count\")\n",
    "count_mentions = pivot_df.na.fill(0)\n",
    "count_mentions.show()\n",
    "\n",
    "window_spec = Window.partitionBy(\"mentions\")\n",
    "count_mentions = count_mentions.withColumn(\"total\", spark_sum(count_mentions[\"positive\"] + count_mentions[\"negative\"]).over(window_spec))\n",
    "count_mentions.show()\n",
    "\n",
    "sorted_count_mentions = count_mentions.orderBy(count_mentions[\"total\"].desc())\n",
    "sorted_count_mentions.show()\n",
    "\n",
    "\n",
    "mentions_top_pos = sorted_count_mentions.filter(sorted_count_mentions[\"positive\"] > 0).limit(20)\n",
    "mentions = mentions_top_pos.select(\"mentions\").rdd.flatMap(lambda x: x).collect()\n",
    "positive_counts = mentions_top_pos.select(\"positive\").rdd.flatMap(lambda x: x).collect()\n",
    "plt.figure(figsize=(20, 10))\n",
    "plt.bar(mentions, positive_counts)\n",
    "plt.xlabel(\"Mentions_POS\")\n",
    "plt.ylabel(\"Count\")\n",
    "plt.title(\"Top 20 Mentions POS_Sentiment\")\n",
    "plt.xticks(rotation=90)\n",
    "plt.show()\n",
    "\n",
    "mentions_top_neg = sorted_count_mentions.filter(sorted_count_mentions[\"negative\"] > 0).limit(20)\n",
    "mentions = mentions_top_neg.select(\"mentions\").rdd.flatMap(lambda x: x).collect()\n",
    "negative_counts = mentions_top_neg.select(\"negative\").rdd.flatMap(lambda x: x).collect()\n",
    "plt.figure(figsize=(20, 10))\n",
    "plt.bar(mentions, negative_counts)\n",
    "plt.xlabel(\"Mentions_NEG\")\n",
    "plt.ylabel(\"Count\")\n",
    "plt.title(\"Top 20 Mentions NEG_Sentiment\")\n",
    "plt.xticks(rotation=90)\n",
    "plt.show()"
   ]
  },
  {
   "cell_type": "markdown",
   "metadata": {
    "application/vnd.databricks.v1+cell": {
     "cellMetadata": {},
     "inputWidgets": {},
     "nuid": "5d5add3f-0c13-4d81-86d8-12cf3cfdd2c8",
     "showTitle": false,
     "title": ""
    }
   },
   "source": [
    "## 9.0 Clean up and completion of your pipeline\n",
    "- using the utilities what streams are running? If any.\n",
    "- Stop all active streams\n",
    "- print out the elapsed time of your notebook."
   ]
  },
  {
   "cell_type": "code",
   "execution_count": 0,
   "metadata": {
    "application/vnd.databricks.v1+cell": {
     "cellMetadata": {
      "byteLimit": 2048000,
      "rowLimit": 10000
     },
     "inputWidgets": {},
     "nuid": "0304e685-c26e-447d-b230-c37266f30003",
     "showTitle": false,
     "title": ""
    }
   },
   "outputs": [],
   "source": [
    "# ENTER YOUR CODE HERE\n",
    "\n",
    "# CHECK ACTIVE STREAMS\n",
    "active_streams = spark.streams.active\n",
    "for stream in active_streams:\n",
    "    print(stream.name)\n",
    "\n",
    "# STOP ALL ACTIVE STREAMS\n",
    "for stream in spark.streams.active:\n",
    "    print(f\"Stopping stream: {stream.name}\")\n",
    "    stream.stop()\n",
    "\n",
    "# ELAPSED TIME CHECK\n",
    "elapsed_time = time.time() - start_time\n",
    "print(\"Elapsed time:\", elapsed_time)"
   ]
  },
  {
   "cell_type": "markdown",
   "metadata": {
    "application/vnd.databricks.v1+cell": {
     "cellMetadata": {},
     "inputWidgets": {},
     "nuid": "b88fc0e5-f50c-4ed1-9480-16a4c8a44b30",
     "showTitle": false,
     "title": ""
    }
   },
   "source": [
    "## 10.0 How Optimized is your Spark Application (Grad Students Only)\n",
    "Graduate students (registered for the DSCC-402 section of the course) are required to do this section.  This is a written analysis using the Spark UI (link to screen shots) that support your analysis of your pipelines execution and what is driving its performance.\n",
    "Recall that Spark Optimization has 5 significant dimensions of considertation:\n",
    "- Spill: write to executor disk due to lack of memory\n",
    "- Skew: imbalance in partition size\n",
    "- Shuffle: network io moving data between executors (wide transforms)\n",
    "- Storage: inefficiency due to disk storage format (small files, location)\n",
    "- Serialization: distribution of code segments across the cluster\n",
    "\n",
    "Comment on each of the dimentions of performance and how your impelementation is or is not being affected.  Use specific information in the Spark UI to support your description.  \n",
    "\n",
    "Note: you can take sreenshots of the Spark UI from your project runs in databricks and then link to those pictures by storing them as a publicly accessible file on your cloud drive (google, one drive, etc.)\n",
    "\n",
    "References:\n",
    "- [Spark UI Reference Reference](https://spark.apache.org/docs/latest/web-ui.html#web-ui)\n",
    "- [Spark UI Simulator](https://www.databricks.training/spark-ui-simulator/index.html)"
   ]
  },
  {
   "cell_type": "markdown",
   "metadata": {
    "application/vnd.databricks.v1+cell": {
     "cellMetadata": {},
     "inputWidgets": {},
     "nuid": "a0a5707d-a5ca-4e87-9e74-3b13d00337b0",
     "showTitle": false,
     "title": ""
    }
   },
   "source": [
    "### ENTER YOUR MARKDOWN HERE\n",
    "\n",
    "## Optimization Logs of Spark Application\n",
    "\n",
    "The process of creating the Gold Delta table has been consistently marred by errors. Initially, I attributed this to a need for more time to establish a stream. However, upon delving into the log, I uncovered a more intricate issue-the potential need for executor adjustment.\n",
    "\n",
    "My investigation was comprehensive, focusing on tasks that spill data to disk. This is a common occurrence when memory capacity is insufficient for operations like joins or aggregations. Despite the absence of streaming initiation, I meticulously examined my executor logs. \n",
    "\n",
    "<br><br>\n",
    "<img src=\"/files/tables/DSCC402/failed_tasks-1.png\" alt=\"error_no_space\" width=\"75%\"><br><br>\n",
    "Checking out executors' failure as below... <br>\n",
    "<img src=\"/files/tables/DSCC402/executor_failure.png\" alt=\"error_no_space\" width=\"75%\">\n",
    "\n",
    "<br><br>\n",
    "\n",
    "If I check the executors log, I can confirm that the task has not been completed. <br><br>\n",
    "<img src=\"/files/tables/DSCC402/executor_stages_failure-1.png\" alt=\"error_no_space\" width=\"50%\">\n",
    "\n",
    "<br>\n",
    "<br>\n",
    "Also, I could confirm that the errors as following: \n",
    "\n",
    "\n",
    "![error_no_space](/files/tables/DSCC402/error_no_space.png)\n",
    "\n",
    "\n",
    "Therefore, I've been exploring various ways to optimize the process and researching to find any possible solutions. \n"
   ]
  },
  {
   "cell_type": "markdown",
   "metadata": {
    "application/vnd.databricks.v1+cell": {
     "cellMetadata": {},
     "inputWidgets": {},
     "nuid": "c42b665c-aeaa-4588-8d8b-c60faa4d4c88",
     "showTitle": false,
     "title": ""
    }
   },
   "source": [
    "<br>\n",
    "\n",
    "### 1. Clear Temporary Files\n",
    "- Clearing any unnecessary data or logs that may consume disk space is a necessary task. This includes temporary files, cache, or old application logs. However, the process resulted in FALSE, indicating that the task was not fully successful.\n",
    "\n",
    "\n",
    "\n",
    "\n",
    "\n"
   ]
  },
  {
   "cell_type": "code",
   "execution_count": 0,
   "metadata": {
    "application/vnd.databricks.v1+cell": {
     "cellMetadata": {},
     "inputWidgets": {},
     "nuid": "4afe0c4e-eb65-4ade-b26b-f86f1aa14065",
     "showTitle": false,
     "title": ""
    }
   },
   "outputs": [],
   "source": [
    "# Try to reduce temporary files to secure more data usages\n",
    "# RESULT: FALSE \n",
    "\n",
    "# dbutils.fs.rm('/path/to/temp/files', recurse=True)"
   ]
  },
  {
   "cell_type": "markdown",
   "metadata": {
    "application/vnd.databricks.v1+cell": {
     "cellMetadata": {},
     "inputWidgets": {},
     "nuid": "170f82a1-d21c-4e8b-bc19-985e0ea6b010",
     "showTitle": false,
     "title": ""
    }
   },
   "source": [
    "### 2. Check Cluster Logs\n",
    "After checking my cluster logs, I have identified a few steps to optimize the clusters.\n",
    "\n",
    "- Cluster Management: With more nodes, cluster management becomes more complex. Issues such as network partitions or synchronization become more prominent. But when I confirmed my clusters, the max workers number was 1, and I could not fix this.\n",
    "\n",
    "<img src=\"/files/tables/DSCC402/GC_Allocation_Failure.png\" alt=\"error_no_space\" width=\"75%\">\n",
    "<img src=\"/files/tables/DSCC402/configuration.png\" alt=\"error_no_space\" width=\"75%\">\n",
    "\n",
    "\n",
    "\n"
   ]
  },
  {
   "cell_type": "markdown",
   "metadata": {
    "application/vnd.databricks.v1+cell": {
     "cellMetadata": {},
     "inputWidgets": {},
     "nuid": "63c7ac63-2e6e-4267-9a4a-b32589cb78bd",
     "showTitle": false,
     "title": ""
    }
   },
   "source": [
    "### 3. Minor Optimizations\n",
    "- Removed & Rewrite Checkpoints & Delta Table: Ensure the checkpoint directory is not accumulating excessive metadata or checkpoint files that consume disk space. I removed checkpoint data and cleaned old checkpoints since the streaming was not initiated. "
   ]
  },
  {
   "cell_type": "code",
   "execution_count": 0,
   "metadata": {
    "application/vnd.databricks.v1+cell": {
     "cellMetadata": {},
     "inputWidgets": {},
     "nuid": "d3b21b81-71ba-46a8-9f06-5b1179498bf1",
     "showTitle": false,
     "title": ""
    }
   },
   "outputs": [],
   "source": [
    "# REMOVE PREVIOUS DATA WHENEVER WE START\n",
    "# RESUMT : TRUE\n",
    "\n",
    "# dbutils.fs.rm(USER_DIR + \"/bronze.delta\", True)\n",
    "# dbutils.fs.rm(USER_DIR + \"/bronze.checkpoint\", True)\n",
    "# dbutils.fs.rm(USER_DIR + \"/silver.delta\", True)\n",
    "# dbutils.fs.rm(USER_DIR + \"/silver.checkpoint\", True)\n",
    "# dbutils.fs.rm(USER_DIR + \"/gold.delta\", True)\n",
    "# dbutils.fs.rm(USER_DIR + \"/gold.checkpoint\", True)"
   ]
  },
  {
   "cell_type": "markdown",
   "metadata": {
    "application/vnd.databricks.v1+cell": {
     "cellMetadata": {},
     "inputWidgets": {},
     "nuid": "a945bfed-d873-4ac5-9f81-76fabb97f8b1",
     "showTitle": false,
     "title": ""
    }
   },
   "source": [
    "### Conclusion\n",
    "\n",
    "Due to the continuous problems I faced while creating the Gold Delta Table, I have realized that maintaining consistency in log files is important to prevent data spills. \n",
    "Here are some other ways that I could suggest: \n",
    "- Skewed Data: Symptoms of the issue will be an uneven distribution of tasks, where some tasks take much longer than others. To avoid this, examine the Stages tab for task durations and size variations, and look at the Input Size / Records and Shuffle Read/Write sizes. To optimize, we can implement custom partitioning or increase the number of partitions and use salting techniques for highly skewed keys.\n",
    "- Serialization: This could happen when there are high task deserialization times and large serialized data sizes. We can confirm this at the task deserialization time in the Executors tab. Possible Optimizations would be minimizing the data that needs to be serialized across the network."
   ]
  },
  {
   "cell_type": "markdown",
   "metadata": {
    "application/vnd.databricks.v1+cell": {
     "cellMetadata": {},
     "inputWidgets": {},
     "nuid": "179df4ac-df8b-4e68-88af-a23956af33e6",
     "showTitle": false,
     "title": ""
    }
   },
   "source": []
  }
 ],
 "metadata": {
  "application/vnd.databricks.v1+notebook": {
   "dashboards": [],
   "language": "python",
   "notebookMetadata": {
    "mostRecentlyExecutedCommandWithImplicitDF": {
     "commandId": 1599202439943068,
     "dataframes": [
      "_sqldf"
     ]
    },
    "pythonIndentUnit": 4,
    "widgetLayout": [
     {
      "breakBefore": false,
      "name": "clear_previous_run",
      "width": 203
     },
     {
      "breakBefore": false,
      "name": "stop_streams",
      "width": 203
     }
    ]
   },
   "notebookName": "Starter Streaming Tweet Sentiment - Spring 2024 Final Project",
   "widgets": {
    "clear_previous_run": {
     "currentValue": "Yes",
     "nuid": "11b43403-c70f-41ef-ab0e-41172583baaa",
     "typedWidgetInfo": null,
     "widgetInfo": {
      "widgetType": "dropdown",
      "defaultValue": "No",
      "label": null,
      "name": "clear_previous_run",
      "options": {
       "widgetType": "dropdown",
       "autoCreated": null,
       "choices": [
        "No",
        "Yes"
       ]
      }
     }
    },
    "optimize_tables": {
     "currentValue": "No",
     "nuid": "afdc5245-0c77-453d-b2bf-159b6ef5a90e",
     "typedWidgetInfo": null,
     "widgetInfo": {
      "widgetType": "dropdown",
      "defaultValue": "No",
      "label": null,
      "name": "optimize_tables",
      "options": {
       "widgetType": "dropdown",
       "autoCreated": null,
       "choices": [
        "No",
        "Yes"
       ]
      }
     }
    },
    "stop_streams": {
     "currentValue": "No",
     "nuid": "4d3450c8-2720-4aaa-9e35-ef22a56c3b33",
     "typedWidgetInfo": null,
     "widgetInfo": {
      "widgetType": "dropdown",
      "defaultValue": "No",
      "label": null,
      "name": "stop_streams",
      "options": {
       "widgetType": "dropdown",
       "autoCreated": null,
       "choices": [
        "No",
        "Yes"
       ]
      }
     }
    }
   }
  },
  "language_info": {
   "name": "python"
  }
 },
 "nbformat": 4,
 "nbformat_minor": 0
}
