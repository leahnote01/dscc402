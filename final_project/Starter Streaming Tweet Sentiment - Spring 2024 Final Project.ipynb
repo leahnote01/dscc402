{
 "cells": [
  {
   "cell_type": "markdown",
   "metadata": {
    "application/vnd.databricks.v1+cell": {
     "cellMetadata": {
      "byteLimit": 2048000,
      "rowLimit": 10000
     },
     "inputWidgets": {},
     "nuid": "fc749083-2211-485c-943f-640e198b2c70",
     "showTitle": false,
     "title": ""
    }
   },
   "source": [
    "## DSCC202-402 Data Science at Scale Final Project\n",
    "### Tracking Tweet sentiment at scale using a pretrained transformer (classifier)\n",
    "<p>Consider the following illustration of the end to end system that you will be building.  Each student should do their own work.  The project will demonstrate your understanding of Spark Streaming, the medalion data architecture using Delta Lake, Spark Inference at Scale using an MLflow packaged model as well as Exploritory Data Analysis and System Tracking and Monitoring.</p>\n",
    "<br><br>\n",
    "<img src=\"https://data-science-at-scale.s3.amazonaws.com/images/pipeline.drawio.png\">\n",
    "\n",
    "<p>\n",
    "You will be pulling an updated copy of the course GitHub repositiory: <a href=\"https://github.com/lpalum/dscc202-402-spring2024\">The Repo</a>.  If you are unclear on how to pull an updated copy using the GitHub command line, the following <a href=\"https://techwritingmatters.com/how-to-update-your-forked-repository-on-github\">document</a> is helpful.  Be sure to add the professors and TAs as collaborators on your project. \n",
    "\n",
    "- lpalum@gmail.com GitHub ID: lpalum\n",
    "- ajay.anand@rochester.edu GitHub ID: ajayan12\n",
    "- divyamunot1999@gmail.com GitHub ID: divyamunot\n",
    "- ylong6@u.Rochester.edu GitHub ID: NinaLong2077\n",
    "\n",
    "Once you have updates your fork of the repository you should see the following template project that is resident in the final_project directory.\n",
    "</p>\n",
    "\n",
    "<img src=\"https://data-science-at-scale.s3.amazonaws.com/images/notebooks.drawio.png\">\n",
    "\n",
    "<p>\n",
    "You can then pull your project into the Databrick Workspace using the <a href=\"https://www.databricks.training/step-by-step/importing-courseware-from-github/index.html\">Repos</a> feature.\n",
    "Each student is expected to submit the URL of their project on GitHub with their code checked in on the main/master branch.  This illustration highlights the branching scheme that you may use to work on your code in steps and then merge your submission into your master branch before submitting.\n",
    "</p>\n",
    "<img src=\"https://data-science-at-scale.s3.amazonaws.com/images/github.drawio.png\">\n",
    "<p>\n",
    "Work your way through this notebook which will give you the steps required to submit a complete and compliant project.  The following illustration and associated data dictionary specifies the transformations and data that you are to generate for each step in the medallion pipeline.\n",
    "</p>\n",
    "<br><br>\n",
    "<img src=\"https://data-science-at-scale.s3.amazonaws.com/images/dataframes.drawio.png\">\n",
    "\n",
    "#### Bronze Data - raw ingest\n",
    "- date - string in the source json\n",
    "- user - string in the source json\n",
    "- text - tweet string in the source json\n",
    "- sentiment - the given sentiment of the text as determined by an unknown model that is provided in the source json\n",
    "- source_file - the path of the source json file the this row of data was read from\n",
    "- processing_time - a timestamp of when you read this row from the source json\n",
    "\n",
    "#### Silver Data - Bronze Preprocessing\n",
    "- timestamp - convert date string in the bronze data to a timestamp\n",
    "- mention - every @username mentioned in the text string in the bronze data gets a row in this silver data table.\n",
    "- cleaned_text - the bronze text data with the mentions (@username) removed.\n",
    "- sentiment - the given sentiment that was associated with the text in the bronze table.\n",
    "\n",
    "#### Gold Data - Silver Table Inference\n",
    "- timestamp - the timestamp from the silver data table rows\n",
    "- mention - the mention from the silver data table rows\n",
    "- cleaned_text - the cleaned_text from the silver data table rows\n",
    "- sentiment - the given sentiment from the silver data table rows\n",
    "- predicted_score - score out of 100 from the Hugging Face Sentiment Transformer\n",
    "- predicted_sentiment - string representation of the sentiment\n",
    "- sentiment_id - 0 for negative and 1 for postive associated with the given sentiment\n",
    "- predicted_sentiment_id - 0 for negative and 1 for positive assocaited with the Hugging Face Sentiment Transformer\n",
    "\n",
    "#### Application Data - Gold Table Aggregation\n",
    "- min_timestamp - the oldest timestamp on a given mention (@username)\n",
    "- max_timestamp - the newest timestamp on a given mention (@username)\n",
    "- mention - the user (@username) that this row pertains to.\n",
    "- negative - total negative tweets directed at this mention (@username)\n",
    "- neutral - total neutral tweets directed at this mention (@username)\n",
    "- positive - total positive tweets directed at this mention (@username)\n",
    "\n",
    "When you are designing your approach, one of the main decisions that you will need to make is how you are going to orchestrate the streaming data processing in your pipeline.  There are several valid approaches.  First, you may choose to start the bronze_stream and let it complete (read and append all of the source data) before preceeding and starting up the silver_stream.  This approach has latency associated with it but it will allow your code to proceed in a linear fashion and process all the data by the end of your notebook execution.  Another potential approach is to start all the streams and have a \"watch\" method to determine when the pipeline has processed sufficient or all of the source data before stopping and displaying results.  Both of these approaches are valid and have different implications on how you will trigger your steams and how you will gate the execution of your pipeline.  Think through how you want to proceed and ask questions if you need guidance. The following references may be helpful:\n",
    "- [Spark Structured Streaming Programming Guide](https://spark.apache.org/docs/latest/structured-streaming-programming-guide.html)\n",
    "- [Databricks Autoloader - Cloudfiles](https://docs.databricks.com/en/ingestion/auto-loader/index.html)\n",
    "\n",
    "### Be sure that your project runs end to end when *Run all* is executued on this notebook! (15 Points out of 60)"
   ]
  },
  {
   "cell_type": "code",
   "execution_count": 0,
   "metadata": {
    "application/vnd.databricks.v1+cell": {
     "cellMetadata": {
      "byteLimit": 2048000,
      "rowLimit": 10000
     },
     "inputWidgets": {},
     "nuid": "bcb02cdb-f201-4551-8032-47928c5135c6",
     "showTitle": false,
     "title": ""
    }
   },
   "outputs": [],
   "source": [
    "!pip install pyspark"
   ]
  },
  {
   "cell_type": "markdown",
   "metadata": {
    "application/vnd.databricks.v1+cell": {
     "cellMetadata": {
      "byteLimit": 2048000,
      "rowLimit": 10000
     },
     "inputWidgets": {},
     "nuid": "3988a2c5-6eda-4fa8-bd28-796f2e6e641e",
     "showTitle": false,
     "title": ""
    }
   },
   "source": [
    "### Variables' Name Update\n",
    "I updated the variables' names as below. As I tried too many times, I assumed the log was merged several times (when I called the tweets, the same tweets appeared, increasing the number of them over 200k). The checkpoints and tables must be additionally organized. Thus, additional variables have been addressed.\n",
    "\n",
    ">>>\n",
    "\n",
    "BRONZE_CHECKPOINT_2 = USER_DIR + 'bronze2.checkpoint' \\\n",
    "BRONZE_DELTA_2 = USER_DIR + 'bronze2.delta'\n",
    "\n",
    "SILVER_CHECKPOINT_2 = USER_DIR + 'silver2.checkpoint' \\\n",
    "SILVER_DELTA_2 = USER_DIR + 'silver2.delta'\n",
    "\n",
    "GOLD_CHECKPOINT_2 = USER_DIR + 'gold2.checkpoint' \\\n",
    "GOLD_DELTA_2 = USER_DIR + 'gold.delta'\n"
   ]
  },
  {
   "cell_type": "code",
   "execution_count": 0,
   "metadata": {
    "application/vnd.databricks.v1+cell": {
     "cellMetadata": {
      "byteLimit": 2048000,
      "rowLimit": 10000
     },
     "inputWidgets": {},
     "nuid": "068f25d0-1387-4342-89cf-ce82a8d614ce",
     "showTitle": true,
     "title": "Pull in the Includes & Utiltites"
    }
   },
   "outputs": [],
   "source": [
    "%run ./includes/includes\n"
   ]
  },
  {
   "cell_type": "code",
   "execution_count": 0,
   "metadata": {
    "application/vnd.databricks.v1+cell": {
     "cellMetadata": {
      "byteLimit": 2048000,
      "rowLimit": 10000
     },
     "inputWidgets": {},
     "nuid": "6512bf1b-50e0-4a4b-84a9-e280a6260b56",
     "showTitle": true,
     "title": "Notebook Control Widgets (maybe helpful)"
    }
   },
   "outputs": [],
   "source": [
    "\"\"\"\n",
    "Adding a widget to the notebook to control the clearing of a previous run.\n",
    "or stopping the active streams using routines defined in the utilities notebook\n",
    "\"\"\"\n",
    "dbutils.widgets.removeAll()\n",
    "\n",
    "dbutils.widgets.dropdown(\"clear_previous_run\", \"No\", [\"No\",\"Yes\"])\n",
    "if (getArgument(\"clear_previous_run\") == \"Yes\"):\n",
    "    clear_previous_run()\n",
    "    print(\"Cleared all previous data.\")\n",
    "\n",
    "dbutils.widgets.dropdown(\"stop_streams\", \"No\", [\"No\",\"Yes\"])\n",
    "if (getArgument(\"stop_streams\") == \"Yes\"):\n",
    "    stop_all_streams()\n",
    "    print(\"Stopped all active streams.\")\n",
    "\n",
    "from delta import *\n",
    "dbutils.widgets.dropdown(\"optimize_tables\", \"No\", [\"No\",\"Yes\"])\n",
    "if (getArgument(\"optimize_tables\") == \"Yes\"):\n",
    "    # Suck up those small files that we have been appending.\n",
    "    DeltaTable.forPath(spark, BRONZE_DELTA).optimize().executeCompaction()\n",
    "    # Suck up those small files that we have been appending.\n",
    "    DeltaTable.forPath(spark, SILVER_DELTA).optimize().executeCompaction()\n",
    "    # Suck up those small files that we have been appending.\n",
    "    DeltaTable.forPath(spark, GOLD_DELTA).optimize().executeCompaction()\n",
    "    print(\"Optimized all of the Delta Tables\")"
   ]
  },
  {
   "cell_type": "markdown",
   "metadata": {
    "application/vnd.databricks.v1+cell": {
     "cellMetadata": {
      "byteLimit": 2048000,
      "rowLimit": 10000
     },
     "inputWidgets": {},
     "nuid": "e8ce7c13-7f8f-4e11-b50c-fdaebbcf3f99",
     "showTitle": false,
     "title": ""
    }
   },
   "source": [
    "## 1.0 Import your libraries here...\n",
    "- Are your shuffle partitions consistent with your cluster and your workload?\n",
    "- Do you have the necessary libraries to perform the required operations in the pipeline/application?"
   ]
  },
  {
   "cell_type": "code",
   "execution_count": 0,
   "metadata": {
    "application/vnd.databricks.v1+cell": {
     "cellMetadata": {
      "byteLimit": 2048000,
      "rowLimit": 10000
     },
     "inputWidgets": {},
     "nuid": "67bafbb7-d34e-4e86-b159-b2e062faa1d0",
     "showTitle": false,
     "title": ""
    }
   },
   "outputs": [],
   "source": [
    "import mlflow\n",
    "import mlflow.pyfunc\n",
    "from delta.tables import *\n",
    "from pyspark.sql.types import StructType, StructField, FloatType, StringType, IntegerType, TimestampType\n",
    "from pyspark.sql.functions import current_timestamp, col, isnan, when, count, desc, expr, explode, split, regexp_replace, udf\n",
    "from sklearn.metrics import confusion_matrix, precision_score, recall_score, f1_score\n",
    "\n",
    "\n",
    "\n"
   ]
  },
  {
   "cell_type": "markdown",
   "metadata": {
    "application/vnd.databricks.v1+cell": {
     "cellMetadata": {
      "byteLimit": 2048000,
      "rowLimit": 10000
     },
     "inputWidgets": {},
     "nuid": "2b7624b4-0aa5-46b7-9767-52f462b2c574",
     "showTitle": false,
     "title": ""
    }
   },
   "source": [
    "## 2.0 Use the utility functions to ...\n",
    "- Read the source file directory listing\n",
    "- Count the source files (how many are there?)\n",
    "- print the contents of one of the files"
   ]
  },
  {
   "cell_type": "code",
   "execution_count": 0,
   "metadata": {
    "application/vnd.databricks.v1+cell": {
     "cellMetadata": {
      "byteLimit": 2048000,
      "rowLimit": 10000
     },
     "inputWidgets": {},
     "nuid": "a59749d5-e45d-460f-9be1-33652cda2ea5",
     "showTitle": false,
     "title": ""
    }
   },
   "outputs": [],
   "source": [
    "# 1. Read the Source File Directory Listing\n",
    "df = get_source_listing_df()\n",
    "print(df)\n",
    "\n",
    "# 2. Count the Source Files\n",
    "file_count = len(df) - 1   # Subtract one to exclude the header row\n",
    "print(f\"Number of source files: {file_count}\")\n",
    "\n",
    "# 3. Print the Contents of One of the Files\n",
    "if file_count > 0:\n",
    "    filename = df.iloc[1]['File Name']  # Use the second row which should be the first actual data file if there's a header\n",
    "    print(f\"\\nContents of {filename}:\")\n",
    "    file_contents = show_s3_file_contents(filename)\n",
    "    print(file_contents.decode('utf-8'))  # Assuming the file content is in bytes\n",
    "else:\n",
    "    print(\"No files found in the source directory or only header is present.\")"
   ]
  },
  {
   "cell_type": "markdown",
   "metadata": {
    "application/vnd.databricks.v1+cell": {
     "cellMetadata": {
      "byteLimit": 2048000,
      "rowLimit": 10000
     },
     "inputWidgets": {},
     "nuid": "1676aed7-527f-4ea7-9d3b-52544e8c1e37",
     "showTitle": false,
     "title": ""
    }
   },
   "source": [
    "## 3.0 Transform the Raw Data to Bronze Data using a stream\n",
    "- define the schema for the raw data\n",
    "- setup a read stream using cloudfiles and the source data format\n",
    "- setup a write stream using cloudfiles to append to the bronze delta table\n",
    "- enforce schema\n",
    "- allow a new schema to be merged into the bronze delta table\n",
    "- Use the defined BRONZE_CHECKPOINT and BRONZE_DELTA paths defines in the includes\n",
    "- name your raw to bronze stream as bronze_stream\n",
    "- transform the raw data to the bronze data using the data definition at the top of the notebook"
   ]
  },
  {
   "cell_type": "code",
   "execution_count": 0,
   "metadata": {
    "application/vnd.databricks.v1+cell": {
     "cellMetadata": {
      "byteLimit": 2048000,
      "rowLimit": 10000
     },
     "inputWidgets": {},
     "nuid": "c4e37574-9885-4908-bf97-609d140a8818",
     "showTitle": false,
     "title": ""
    }
   },
   "outputs": [],
   "source": [
    "# 1. Define the Schema for Raw Data\n",
    "\n",
    "# Define the schema corresponding to the JSON structure of the source data\n",
    "schema  = StructType([\n",
    "    StructField(\"date\", StringType(), True),\n",
    "    StructField(\"user\", StringType(), True),\n",
    "    StructField(\"text\", StringType(), True),\n",
    "    StructField(\"sentiment\", StringType(), True),\n",
    "    StructField(\"source_file\", StringType(), True)\n",
    "])\n"
   ]
  },
  {
   "cell_type": "code",
   "execution_count": 0,
   "metadata": {
    "application/vnd.databricks.v1+cell": {
     "cellMetadata": {
      "byteLimit": 2048000,
      "rowLimit": 10000
     },
     "inputWidgets": {},
     "nuid": "cbea01a5-238f-419f-998d-178ed7e0a049",
     "showTitle": false,
     "title": ""
    }
   },
   "outputs": [],
   "source": [
    "# 2. Setup a Read Stream for Source Data\n",
    "\n",
    "# Setup the read stream with whole dataset\n",
    "raw_data = (\n",
    "    spark.readStream\n",
    "    .format(\"cloudFiles\")  # Using cloudFiles format for compatibility with cloud storage\n",
    "    .option(\"cloudFiles.format\", \"json\")\n",
    "    .schema(schema)  # Enforce the schema\n",
    "    .load(TWEET_SOURCE_PATH)\n",
    ")\n"
   ]
  },
  {
   "cell_type": "code",
   "execution_count": 0,
   "metadata": {
    "application/vnd.databricks.v1+cell": {
     "cellMetadata": {
      "byteLimit": 2048000,
      "rowLimit": 10000
     },
     "inputWidgets": {},
     "nuid": "a96aef2b-61a1-4ca0-808f-4f7f49175313",
     "showTitle": false,
     "title": ""
    }
   },
   "outputs": [],
   "source": [
    "# 3. Transform Raw Data to Bronze Data\n",
    "\n",
    "# Add processing timestamp and source file path\n",
    "bronze_data = raw_data.withColumn(\"processing_time\", current_timestamp())\n"
   ]
  },
  {
   "cell_type": "code",
   "execution_count": 0,
   "metadata": {
    "application/vnd.databricks.v1+cell": {
     "cellMetadata": {
      "byteLimit": 2048000,
      "rowLimit": 10000
     },
     "inputWidgets": {},
     "nuid": "30c48555-b4d7-459b-8638-ed2a1223b6d3",
     "showTitle": false,
     "title": ""
    }
   },
   "outputs": [],
   "source": [
    "# 4.  Setup a Write Stream to Bronze Delta Table\n",
    "\n",
    "# # Write the transformed data to a Delta table\n",
    "query = (\n",
    "    bronze_data.writeStream\n",
    "    .format(\"delta\")\n",
    "    .outputMode(\"append\")\n",
    "    .option(\"checkpointLocation\", BRONZE_CHECKPOINT_2)\n",
    "    .option(\"path\", BRONZE_DELTA_2)\n",
    "    .trigger(processingTime='1 minute')  # Trigger the processing every minute\n",
    "    .queryName(\"bronze_stream\")  # Named based on the variable requirement\n",
    "    .start()\n",
    ")\n"
   ]
  },
  {
   "cell_type": "markdown",
   "metadata": {
    "application/vnd.databricks.v1+cell": {
     "cellMetadata": {
      "byteLimit": 2048000,
      "rowLimit": 10000
     },
     "inputWidgets": {},
     "nuid": "9bc3e824-d218-43e5-a43b-4c6dbe31950d",
     "showTitle": false,
     "title": ""
    }
   },
   "source": [
    "## 4.0 Bronze Data Exploratory Data Analysis\n",
    "- How many tweets are captured in your Bronze Table?\n",
    "- Are there any columns that contain Nan or Null values?  If so how many and what will you do in your silver transforms to address this?\n",
    "- Count the number of tweets by each unique user handle and sort the data by descending count.\n",
    "- How many tweets have at least one mention (@) how many tweet have no mentions (@)\n",
    "- Plot a bar chart that shows the top 20 tweeters (users)\n"
   ]
  },
  {
   "cell_type": "code",
   "execution_count": 0,
   "metadata": {
    "application/vnd.databricks.v1+cell": {
     "cellMetadata": {
      "byteLimit": 2048000,
      "rowLimit": 10000
     },
     "inputWidgets": {},
     "nuid": "091ec59c-d968-4acf-b56f-cc9178cd0693",
     "showTitle": false,
     "title": ""
    }
   },
   "outputs": [],
   "source": [
    "# Load the Bronze Delta Table\n",
    "bronze_df = spark.read.format(\"delta\").load(BRONZE_DELTA_2)"
   ]
  },
  {
   "cell_type": "code",
   "execution_count": 0,
   "metadata": {
    "application/vnd.databricks.v1+cell": {
     "cellMetadata": {
      "byteLimit": 2048000,
      "rowLimit": 10000
     },
     "inputWidgets": {},
     "nuid": "7b3d7fca-0fdf-4ae0-8741-c973080e4118",
     "showTitle": false,
     "title": ""
    }
   },
   "outputs": [],
   "source": [
    "# Task 1: Count Tweets in Bronze Table\n",
    "\n",
    "# Count the number of tweets\n",
    "tweet_count = bronze_df.count()\n",
    "print(f\"Total number of tweets: {tweet_count}\")\n"
   ]
  },
  {
   "cell_type": "code",
   "execution_count": 0,
   "metadata": {
    "application/vnd.databricks.v1+cell": {
     "cellMetadata": {
      "byteLimit": 2048000,
      "rowLimit": 10000
     },
     "inputWidgets": {},
     "nuid": "3f10e19b-e9f3-4f35-95f4-5a65f8bf9e7a",
     "showTitle": false,
     "title": ""
    }
   },
   "outputs": [],
   "source": [
    "# Task 2: Identify Null or Nan Values\n",
    "\n",
    "# Convert timestamp column to double type\n",
    "bronze_df = bronze_df.withColumn(\"processing_time\", col(\"processing_time\").cast(\"double\"))\n",
    "\n",
    "# Check for null or NaN values in each column\n",
    "null_counts = bronze_df.select([count(when(isnan(c) | col(c).isNull(), c)).alias(c) for c in bronze_df.columns])\n",
    "null_counts.show()\n"
   ]
  },
  {
   "cell_type": "code",
   "execution_count": 0,
   "metadata": {
    "application/vnd.databricks.v1+cell": {
     "cellMetadata": {
      "byteLimit": 2048000,
      "rowLimit": 10000
     },
     "inputWidgets": {},
     "nuid": "dd91653c-f609-4579-a955-f9193639a70b",
     "showTitle": false,
     "title": ""
    }
   },
   "outputs": [],
   "source": [
    "# Task 3: Count Tweets by Each Unique User\n",
    "\n",
    "\n",
    "# Assuming 'user' is the column with the user's Twitter handle\n",
    "tweets_by_user = bronze_df.groupBy(\"user\").count().orderBy(desc(\"count\"))\n",
    "tweets_by_user.show()\n"
   ]
  },
  {
   "cell_type": "code",
   "execution_count": 0,
   "metadata": {
    "application/vnd.databricks.v1+cell": {
     "cellMetadata": {
      "byteLimit": 2048000,
      "rowLimit": 10000
     },
     "inputWidgets": {},
     "nuid": "ea3c8bf3-7015-4ec9-93b4-b3bd5697929d",
     "showTitle": false,
     "title": ""
    }
   },
   "outputs": [],
   "source": [
    "# Task 4: Count Tweets with Mentions\n",
    "\n",
    "\n",
    "# Count tweets with and without mentions\n",
    "tweets_with_mentions = bronze_df.filter(col(\"text\").contains(\"@\")).count()\n",
    "tweets_without_mentions = tweet_count - tweets_with_mentions\n",
    "\n",
    "print(f\"Tweets with mentions: {tweets_with_mentions}\")\n",
    "print(f\"Tweets without mentions: {tweets_without_mentions}\")\n",
    "\n"
   ]
  },
  {
   "cell_type": "code",
   "execution_count": 0,
   "metadata": {
    "application/vnd.databricks.v1+cell": {
     "cellMetadata": {
      "byteLimit": 2048000,
      "rowLimit": 10000
     },
     "inputWidgets": {},
     "nuid": "4740acd2-2b35-446e-b8e3-a1dd66d54023",
     "showTitle": true,
     "title": ""
    }
   },
   "outputs": [],
   "source": [
    "# Task 5: Plot a Bar Chart of the Top 20 Tweeters\n",
    "\n",
    "# Using display in Databricks to show the top 20 tweeters\n",
    "display(tweets_by_user.limit(20))\n",
    "\n",
    "# Alternatively, using matplotlib to plot\n",
    "import matplotlib.pyplot as plt\n",
    "\n",
    "top_tweeters = tweets_by_user.limit(20).toPandas()  # Convert to Pandas for plotting\n",
    "\n",
    "plt.figure(figsize=(10, 8))\n",
    "plt.bar(top_tweeters['user'], top_tweeters['count'], color='skyblue')\n",
    "plt.xlabel('User')\n",
    "plt.ylabel('Number of Tweets')\n",
    "plt.title('Top 20 Tweeters')\n",
    "plt.xticks(rotation=45)\n",
    "plt.show()\n",
    "\n",
    "\n"
   ]
  },
  {
   "cell_type": "markdown",
   "metadata": {
    "application/vnd.databricks.v1+cell": {
     "cellMetadata": {
      "byteLimit": 2048000,
      "rowLimit": 10000
     },
     "inputWidgets": {},
     "nuid": "38c290b9-a42a-4551-857b-3f461b8a1be6",
     "showTitle": false,
     "title": ""
    }
   },
   "source": [
    "## 5.0 Transform the Bronze Data to Silver Data using a stream\n",
    "- setup a read stream on your bronze delta table\n",
    "- setup a write stream to append to the silver delta table\n",
    "- Use the defined SILVER_CHECKPOINT and SILVER_DELTA paths in the includes\n",
    "- name your bronze to silver stream as silver_stream\n",
    "- transform the bronze data to the silver data using the data definition at the top of the notebook\n",
    "\n",
    "\n",
    "#### Silver Data - Bronze Preprocessing\n",
    "- timestamp - convert date string in the bronze data to a timestamp\n",
    "- mention - every @username mentioned in the text string in the bronze data gets a row in this silver data table.\n",
    "- cleaned_text - the bronze text data with the mentions (@username) removed.\n",
    "- sentiment - the given sentiment that was associated with the text in the bronze table.\n",
    "\n",
    "\n",
    "### Variable Name Change\n",
    "- mention -> potential_mention\n"
   ]
  },
  {
   "cell_type": "code",
   "execution_count": 0,
   "metadata": {
    "application/vnd.databricks.v1+cell": {
     "cellMetadata": {
      "byteLimit": 2048000,
      "rowLimit": 10000
     },
     "inputWidgets": {},
     "nuid": "65b029cb-ba45-4625-a9c1-d0d410a4962b",
     "showTitle": true,
     "title": ""
    }
   },
   "outputs": [],
   "source": [
    "# 1.  Setup the read stream for Bronze data\n",
    "bronze_df = (\n",
    "    spark.readStream\n",
    "    .format(\"delta\")\n",
    "    .load(BRONZE_DELTA_2)\n",
    ")"
   ]
  },
  {
   "cell_type": "code",
   "execution_count": 0,
   "metadata": {
    "application/vnd.databricks.v1+cell": {
     "cellMetadata": {
      "byteLimit": 2048000,
      "rowLimit": 10000
     },
     "inputWidgets": {},
     "nuid": "37490623-6ecd-411b-9331-3d937295828f",
     "showTitle": false,
     "title": ""
    }
   },
   "outputs": [],
   "source": [
    "# 2. Transform the data\n",
    "silver_data = bronze_df.select(\n",
    "    # Convert date string to timestamp\n",
    "    col(\"date\").cast(\"timestamp\").alias(\"timestamp\"),\n",
    "    # Explode mentions into separate rows\n",
    "    explode(split(col(\"text\"), \" \")).alias(\"potential_mention\"),\n",
    "    # Remove mentions from text\n",
    "    regexp_replace(col(\"text\"), \"@\\\\w+\", \"\").alias(\"cleaned_text\"),\n",
    "    # Carry over sentiment\n",
    "    col(\"sentiment\")\n",
    ").filter(col(\"potential_mention\").startswith(\"@\"))  # Only keep rows where there is a mention\n"
   ]
  },
  {
   "cell_type": "code",
   "execution_count": 0,
   "metadata": {
    "application/vnd.databricks.v1+cell": {
     "cellMetadata": {
      "byteLimit": 2048000,
      "rowLimit": 10000
     },
     "inputWidgets": {},
     "nuid": "8d5a695b-988a-4c25-bcbf-1fbd3be4b6c3",
     "showTitle": true,
     "title": ""
    }
   },
   "outputs": [],
   "source": [
    "# Write the transformed data to the Silver Delta table\n",
    "silver_query = (\n",
    "    silver_data.writeStream\n",
    "    .format(\"delta\")\n",
    "    .outputMode(\"append\")\n",
    "    .option(\"checkpointLocation\", SILVER_CHECKPOINT_2) # updated with checkpoint2\n",
    "    .option(\"path\", SILVER_DELTA_2 ) # updated with delta2\n",
    "    .queryName(\"silver_stream\")  # Name the stream\n",
    "    .trigger(processingTime='1 minute')  # Trigger the processing every minute\n",
    "    .start()\n",
    ")\n"
   ]
  },
  {
   "cell_type": "markdown",
   "metadata": {
    "application/vnd.databricks.v1+cell": {
     "cellMetadata": {
      "byteLimit": 2048000,
      "rowLimit": 10000
     },
     "inputWidgets": {},
     "nuid": "9ee38aba-e340-4766-8339-71ef2ecfde3a",
     "showTitle": false,
     "title": ""
    }
   },
   "source": [
    "## 6.0 Transform the Silver Data to Gold Data using a stream\n",
    "- setup a read stream on your silver delta table\n",
    "- setup a write stream to append to the gold delta table\n",
    "- Use the defined GOLD_CHECKPOINT and GOLD_DELTA paths defines in the includes\n",
    "- name your silver to gold stream as gold_stream\n",
    "- transform the silver data to the gold data using the data definition at the top of the notebook\n",
    "- Load the pretrained transformer sentiment classifier from the MODEL_NAME at the production level from the MLflow registry\n",
    "- Use a spark UDF to parallelize the inference across your silver data\n",
    "\n",
    "#### Gold Data - Silver Table Inference\n",
    "- timestamp - the timestamp from the silver data table rows\n",
    "- mention - the mention from the silver data table rows\n",
    "- cleaned_text - the cleaned_text from the silver data table rows\n",
    "- sentiment - the given sentiment from the silver data table rows\n",
    "- predicted_score - score out of 100 from the Hugging Face Sentiment Transformer\n",
    "- predicted_sentiment - string representation of the sentiment\n",
    "- sentiment_id - 0 for negative and 1 for postive associated with the given sentiment\n",
    "- predicted_sentiment_id - 0 for negative and 1 for positive assocaited with the Hugging Face Sentiment Transformer"
   ]
  },
  {
   "cell_type": "code",
   "execution_count": 0,
   "metadata": {
    "application/vnd.databricks.v1+cell": {
     "cellMetadata": {
      "byteLimit": 2048000,
      "rowLimit": 10000
     },
     "inputWidgets": {},
     "nuid": "51017363-5a11-497e-a061-e004ccb62f22",
     "showTitle": false,
     "title": ""
    }
   },
   "outputs": [],
   "source": [
    "#loading the model from MLFlow Registery using the spark \n",
    "sentiment_model = mlflow.pyfunc.spark_udf(spark, model_uri = f\"models:/{MODEL_NAME}/production\")"
   ]
  },
  {
   "cell_type": "code",
   "execution_count": 0,
   "metadata": {
    "application/vnd.databricks.v1+cell": {
     "cellMetadata": {
      "byteLimit": 2048000,
      "rowLimit": 10000
     },
     "inputWidgets": {},
     "nuid": "e3557c1a-64ca-4529-84eb-756f5dc5d3d5",
     "showTitle": false,
     "title": ""
    }
   },
   "outputs": [],
   "source": [
    "# 1. Read from the Silver Delta Table / Checking silver_df shows well\n",
    "\n",
    "silver_df = spark.readStream.format(\"delta\").load(SILVER_DELTA_2)\n",
    "# display(silver_df)"
   ]
  },
  {
   "cell_type": "code",
   "execution_count": 0,
   "metadata": {
    "application/vnd.databricks.v1+cell": {
     "cellMetadata": {
      "byteLimit": 2048000,
      "rowLimit": 10000
     },
     "inputWidgets": {},
     "nuid": "07a36399-988a-4052-9912-950fa94236c8",
     "showTitle": false,
     "title": ""
    }
   },
   "outputs": [],
   "source": [
    "#### Test with the mock data\n",
    "\n",
    "from pyspark.sql import SparkSession\n",
    "from pyspark.sql.functions import current_timestamp\n",
    "import random\n",
    "\n",
    "# Start Spark session\n",
    "spark = SparkSession.builder.appName(\"TestDeltaData\").getOrCreate()\n",
    "\n",
    "# Sample data\n",
    "data = [\n",
    "    {\"date\": \"2024-05-10\", \"user\": \"user1\", \"text\": \"I love this product!\", \"sentiment\": \"pos\", \"source_file\": \"file1.json\"},\n",
    "    {\"date\": \"2024-05-10\", \"user\": \"user2\", \"text\": \"Not what I expected.\", \"sentiment\": \"neg\", \"source_file\": \"file2.json\"},\n",
    "    {\"date\": \"2024-05-10\", \"user\": \"user3\", \"text\": \"Pretty average, nothing special.\", \"sentiment\": \"neu\", \"source_file\": \"file3.json\"},\n",
    "    {\"date\": \"2024-05-10\", \"user\": \"user4\", \"text\": \"Worst experience ever!\", \"sentiment\": \"neg\", \"source_file\": \"file4.json\"},\n",
    "    {\"date\": \"2024-05-10\", \"user\": \"user5\", \"text\": \"This is amazing!\", \"sentiment\": \"pos\", \"source_file\": \"file5.json\"}\n",
    "]\n",
    "\n",
    "# Create DataFrame\n",
    "tschema = StructType([\n",
    "    StructField(\"date\", StringType(), True),\n",
    "    StructField(\"user\", StringType(), True),\n",
    "    StructField(\"text\", StringType(), True),\n",
    "    StructField(\"sentiment\", StringType(), True),\n",
    "    StructField(\"source_file\", StringType(), True)\n",
    "])\n",
    "\n",
    "df = spark.createDataFrame(data, schema=schema)\n",
    "\n",
    "# Add processing timestamp to mimic bronze layer processing\n",
    "df = df.withColumn(\"processing_time\", current_timestamp())\n",
    "\n",
    "# Define path for the test Delta table\n",
    "test_silver_delta_path = \"/tmp/test_silver_delta_table\"\n",
    "\n",
    "# Write the DataFrame to a Delta table\n",
    "df.write.format(\"delta\").mode(\"overwrite\").save(test_silver_delta_path)\n",
    "\n"
   ]
  },
  {
   "cell_type": "code",
   "execution_count": 0,
   "metadata": {
    "application/vnd.databricks.v1+cell": {
     "cellMetadata": {
      "byteLimit": 2048000,
      "rowLimit": 10000
     },
     "inputWidgets": {},
     "nuid": "0ff32d6b-0525-4eee-8ca3-817e633d0025",
     "showTitle": false,
     "title": ""
    }
   },
   "outputs": [],
   "source": [
    "#### TEST WORKING GOOOOOOOODDDDDDD!!\n",
    "\n",
    "from pyspark.sql.functions import udf\n",
    "from pyspark.sql.types import FloatType, StringType, StructType, StructField\n",
    "import mlflow.pyfunc\n",
    "\n",
    "# Define the schema for the output of your UDF\n",
    "schema = StructType([\n",
    "    StructField(\"score\", FloatType(), False),\n",
    "    StructField(\"label\", StringType(), False)\n",
    "])\n",
    "\n",
    "# Define the UDF function with the model loading inside it\n",
    "def predict_sentiment(text):\n",
    "    # Load the ML model inside the UDF function to avoid scope issues\n",
    "    model = mlflow.pyfunc.load_model(model_uri=f\"models:/{MODEL_NAME}/production\")\n",
    "    # Predict using the loaded model\n",
    "    prediction = model.predict([text])\n",
    "    # Assuming prediction structure where the model returns a DataFrame with 'score' and 'label'\n",
    "    return (float(prediction['score'].iloc[0]), prediction['label'].iloc[0])\n",
    "\n",
    "# Register the UDF with Spark, using the schema\n",
    "predict_sentiment_udf = udf(predict_sentiment, schema)\n",
    "\n",
    "# Usage in the query\n",
    "test_query = (\n",
    "    spark.readStream\n",
    "    .format(\"delta\")\n",
    "    .load(test_silver_delta_path)\n",
    "    .withColumn(\"prediction_results\", predict_sentiment_udf(col(\"text\")))\n",
    "    .withColumn(\"predicted_score\", col(\"prediction_results.score\"))\n",
    "    .withColumn(\"predicted_sentiment\", col(\"prediction_results.label\"))\n",
    "    .writeStream\n",
    "    .format(\"delta\")\n",
    "    .option(\"checkpointLocation\", \"/tmp/test_gold_checkpoint\")\n",
    "    .outputMode(\"append\")\n",
    "    .start(\"/tmp/test_gold_delta_table\")\n",
    ")\n"
   ]
  },
  {
   "cell_type": "code",
   "execution_count": 0,
   "metadata": {
    "application/vnd.databricks.v1+cell": {
     "cellMetadata": {
      "byteLimit": 2048000,
      "rowLimit": 10000
     },
     "inputWidgets": {},
     "nuid": "880b9c69-97b6-4b53-a70b-397b71f1634a",
     "showTitle": false,
     "title": ""
    }
   },
   "outputs": [],
   "source": [
    "#### Transform test query to gold delta streaming\n",
    "#### Read & Write stream have been merged\n",
    "\n",
    "# Define the schema for the output of your UDF\n",
    "schema = StructType([\n",
    "    StructField(\"score\", FloatType(), False),\n",
    "    StructField(\"label\", StringType(), False)\n",
    "])\n",
    "\n",
    "# Define the UDF function with the model loading inside it\n",
    "def predict_sentiment(text):\n",
    "    # Load the ML model inside the UDF function to avoid scope issues\n",
    "    model = mlflow.pyfunc.load_model(model_uri=f\"models:/{MODEL_NAME}/production\")\n",
    "    # Predict using the loaded model\n",
    "    prediction = model.predict([text])\n",
    "    # Assuming prediction structure where the model returns a DataFrame with 'score' and 'label'\n",
    "    return (float(prediction['score'].iloc[0]), prediction['label'].iloc[0])\n",
    "\n",
    "# Register the UDF with Spark, using the schema\n",
    "predict_sentiment_udf = udf(predict_sentiment, schema)\n",
    "\n",
    "\n",
    "\n",
    "# Usage in the query\n",
    "gold_query = (\n",
    "    spark.readStream\n",
    "    .format(\"delta\")\n",
    "    .load(SILVER_DELTA_2)\n",
    "    .withColumn(\"prediction_results\", predict_sentiment_udf(col(\"cleaned_text\")))\n",
    "    .withColumn(\"predicted_score\", col(\"prediction_results.score\"))\n",
    "    .withColumn(\"predicted_sentiment\", col(\"prediction_results.label\"))\n",
    "    .writeStream\n",
    "    .format(\"delta\")\n",
    "    .option(\"checkpointLocation\", GOLD_CHECKPOINT_2)\n",
    "    .outputMode(\"append\")\n",
    "    .queryName(\"gold_stream\")\n",
    "    .trigger(once=True) # Trigger adjusted within \"1 minute\", \"continuous\" or \"once\"\n",
    "    .start(GOLD_DELTA_2)\n",
    ")\n",
    "\n",
    "\n",
    "# gold_query.awaitTermination(300) \n",
    "# gold_query.stop()"
   ]
  },
  {
   "cell_type": "code",
   "execution_count": 0,
   "metadata": {
    "application/vnd.databricks.v1+cell": {
     "cellMetadata": {
      "byteLimit": 2048000,
      "rowLimit": 10000
     },
     "inputWidgets": {},
     "nuid": "eb587dff-e9de-4e6a-916f-51ddc4cd3fd6",
     "showTitle": false,
     "title": ""
    }
   },
   "outputs": [],
   "source": [
    "# Checking if delta points have been created well\n",
    "\n",
    "dbutils.fs.ls(\"/tmp/labuser104917-3007337/\")"
   ]
  },
  {
   "cell_type": "code",
   "execution_count": 0,
   "metadata": {
    "application/vnd.databricks.v1+cell": {
     "cellMetadata": {
      "byteLimit": 2048000,
      "rowLimit": 10000
     },
     "inputWidgets": {},
     "nuid": "14861b18-6233-4f97-96ac-899520a75e5a",
     "showTitle": false,
     "title": ""
    }
   },
   "outputs": [],
   "source": [
    "# Optimizing checkpoint directories \n",
    "# RESULT : TRUE\n",
    "\n",
    "# dbutils.fs.rm(USER_DIR + \"/gold2.delta\", True)\n",
    "# dbutils.fs.rm(USER_DIR + \"/gold2.checkpoint\", True)"
   ]
  },
  {
   "cell_type": "code",
   "execution_count": 0,
   "metadata": {
    "application/vnd.databricks.v1+cell": {
     "cellMetadata": {
      "byteLimit": 2048000,
      "rowLimit": 10000
     },
     "inputWidgets": {},
     "nuid": "ab428036-5e1b-4d20-99d9-3a72031cf38c",
     "showTitle": false,
     "title": ""
    }
   },
   "outputs": [],
   "source": []
  },
  {
   "cell_type": "code",
   "execution_count": 0,
   "metadata": {
    "application/vnd.databricks.v1+cell": {
     "cellMetadata": {
      "byteLimit": 2048000,
      "rowLimit": 10000
     },
     "inputWidgets": {},
     "nuid": "abdc21d1-f25e-440d-9bec-689419148aa4",
     "showTitle": false,
     "title": ""
    }
   },
   "outputs": [],
   "source": [
    "# # Create table for Gold Delta\n",
    "\n",
    "# %sql\n",
    "# DROP TABLE IF EXISTS gold;\n",
    "# CREATE TABLE gold (\n",
    "# date TIMESTAMP,\n",
    "# potential_mention STRING,\n",
    "# sentiment STRING,\n",
    "# cleaned_text STRING,\n",
    "# user STRING,\n",
    "# source_file_name STRING,\n",
    "# processing_time_stamp TIMESTAMP\n",
    "# )\n",
    "# USING delta\n",
    "# LOCATION '/tmp/labuser104917-3007337/gold2.delta'"
   ]
  },
  {
   "cell_type": "code",
   "execution_count": 0,
   "metadata": {
    "application/vnd.databricks.v1+cell": {
     "cellMetadata": {
      "byteLimit": 2048000,
      "rowLimit": 10000
     },
     "inputWidgets": {},
     "nuid": "724892b1-f51e-49d4-81c8-af48d3097e27",
     "showTitle": false,
     "title": ""
    }
   },
   "outputs": [],
   "source": [
    "gold_data = spark.read.format(\"delta\").load(GOLD_DELTA_2)\n",
    "display(gold_data)"
   ]
  },
  {
   "cell_type": "markdown",
   "metadata": {
    "application/vnd.databricks.v1+cell": {
     "cellMetadata": {
      "byteLimit": 2048000,
      "rowLimit": 10000
     },
     "inputWidgets": {},
     "nuid": "2259fe2f-cb0f-4792-9298-3d5ad74db6c0",
     "showTitle": false,
     "title": ""
    }
   },
   "source": [
    "predicted_score - score out of 100 from the Hugging Face Sentiment Transformer\n",
    "\n",
    "predicted_sentiment - string representation of the sentiment\n",
    "\n",
    "sentiment_id - 0 for negative and 1 for postive associated with the given sentiment\n",
    "\n",
    "predicted_sentiment_id - 0 for negative and 1 for positive assocaited with the Hugging Face Sentiment Transformer"
   ]
  },
  {
   "cell_type": "markdown",
   "metadata": {
    "application/vnd.databricks.v1+cell": {
     "cellMetadata": {
      "byteLimit": 2048000,
      "rowLimit": 10000
     },
     "inputWidgets": {},
     "nuid": "0494d8b4-5a55-47fc-af12-47325f34a303",
     "showTitle": false,
     "title": ""
    }
   },
   "source": [
    "## 7.0 Capture the accuracy metrics from the gold table in MLflow\n",
    "Store the following in an MLflow experiment run:\n",
    "- Store the precision, recall, and F1-score as MLflow metrics\n",
    "- Store an image of the confusion matrix as an MLflow artifact\n",
    "- Store the mdoel name and the MLflow version that was used as an MLflow parameters\n",
    "- Store the version of the Delta Table (input-silver) as an MLflow parameter"
   ]
  },
  {
   "cell_type": "code",
   "execution_count": 0,
   "metadata": {
    "application/vnd.databricks.v1+cell": {
     "cellMetadata": {
      "byteLimit": 2048000,
      "rowLimit": 10000
     },
     "inputWidgets": {},
     "nuid": "929dfb9a-85ae-4f76-86f0-2fdb3fa14f6a",
     "showTitle": false,
     "title": ""
    }
   },
   "outputs": [],
   "source": [
    "# Extract actual and predicted sentiment IDs from the gold data\n",
    "actual_sentiments = gold_data.select('sentiment_id').toPandas()\n",
    "predicted_sentiments = gold_data.select('predicted_sentiment_id').toPandas()\n",
    "\n",
    "# Compute the confusion matrix\n",
    "confusion_mtx = confusion_matrix(actual_sentiments, predicted_sentiments)\n",
    "\n",
    "# Create and configure the heatmap for the confusion matrix\n",
    "plt.figure(figsize=(5, 5)) \n",
    "sns.heatmap(confusion_mtx, annot=True, fmt=\"d\", cmap=\"Blues\")\n",
    "plt.xlabel(\"Predicted Sentiment IDs\")\n",
    "plt.ylabel(\"Actual Sentiment IDs\")\n",
    "plt.title(\"Sentiment Analysis Confusion Matrix\")\n",
    "plt.savefig(\"updated_confusion_matrix.png\")\n",
    "\n",
    "plt.show()\n",
    "plt.close()"
   ]
  },
  {
   "cell_type": "code",
   "execution_count": 0,
   "metadata": {
    "application/vnd.databricks.v1+cell": {
     "cellMetadata": {
      "byteLimit": 2048000,
      "rowLimit": 10000
     },
     "inputWidgets": {},
     "nuid": "d787b44b-7578-49c4-8089-ac3002f8261f",
     "showTitle": false,
     "title": ""
    }
   },
   "outputs": [],
   "source": [
    "# Calculate performance metrics\n",
    "recall_score_value = recall_score(actual_sentiments, predicted_sentiments)\n",
    "precision_score_value = precision_score(actual_sentiments, predicted_sentiments)\n",
    "f1_score_value = f1_score(actual_sentiments, predicted_sentiments)\n",
    "\n",
    "# Retrieve the latest version of the silver Delta table\n",
    "latest_silver_version = _sqldf.select('version').first()\n",
    "\n",
    "# Start an MLflow run to log parameters, metrics, and artifacts\n",
    "with mlflow.start_run():\n",
    "    mlflow.log_param(\"MLflow version used\", mlflow.__version__)\n",
    "    mlflow.log_param(\"Input Silver Table Version\", latest_silver_version)\n",
    "    mlflow.log_param(\"Name of the Sentiment Model\", HF_MODEL_NAME)\n",
    "    mlflow.log_metric(\"Precision Score\", precision_score_value)\n",
    "    mlflow.log_metric(\"Recall Score\", recall_score_value)\n",
    "    mlflow.log_metric(\"F1 Score\", f1_score_value)\n",
    "    mlflow.log_artifact(\"updated_confusion_matrix.png\")\n",
    "\n",
    "    "
   ]
  },
  {
   "cell_type": "markdown",
   "metadata": {
    "application/vnd.databricks.v1+cell": {
     "cellMetadata": {
      "byteLimit": 2048000,
      "rowLimit": 10000
     },
     "inputWidgets": {},
     "nuid": "81e0e2de-b872-4698-81cc-1669646c2183",
     "showTitle": false,
     "title": ""
    }
   },
   "source": [
    "## 8.0 Application Data Processing and Visualization\n",
    "- How many mentions are there in the gold data total?\n",
    "- Count the number of neutral, positive and negative tweets for each mention in new columns\n",
    "- Capture the total for each mention in a new column\n",
    "- Sort the mention count totals in descending order\n",
    "- Plot a bar chart of the top 20 mentions with positive sentiment (the people who are in favor)\n",
    "- Plot a bar chart of the top 20 mentions with negative sentiment (the people who are the vilians)\n",
    "\n",
    "You may want to use the \"Loop Application\" widget to control whether you repeateded display the latest plots while the data comes in from your streams before moving on to the next section and cleaning up your run.\n",
    "\n",
    "*note: A mention is a specific twitter user that has been \"mentioned\" in a tweet with an @user reference.\n",
    "\n",
    "#### Gold Data - Silver Table Inference\n",
    "- timestamp - the timestamp from the silver data table rows\n",
    "- mention - the mention from the silver data table rows\n",
    "- cleaned_text - the cleaned_text from the silver data table rows\n",
    "- sentiment - the given sentiment from the silver data table rows\n",
    "- predicted_score - score out of 100 from the Hugging Face Sentiment Transformer\n",
    "- predicted_sentiment - string representation of the sentiment\n",
    "- sentiment_id - 0 for negative and 1 for postive associated with the given sentiment\n",
    "- predicted_sentiment_id - 0 for negative and 1 for positive assocaited with the Hugging Face Sentiment Transformer\n",
    "\n",
    "\n",
    "#### Application Data - Gold Table Aggregation\n",
    "- min_timestamp - the oldest timestamp on a given mention (@username)\n",
    "- max_timestamp - the newest timestamp on a given mention (@username)\n",
    "- mention - the user (@username) that this row pertains to.\n",
    "- negative - total negative tweets directed at this mention (@username)\n",
    "- neutral - total neutral tweets directed at this mention (@username)\n",
    "- positive - total positive tweets directed at this mention (@username)\n"
   ]
  },
  {
   "cell_type": "code",
   "execution_count": 0,
   "metadata": {
    "application/vnd.databricks.v1+cell": {
     "cellMetadata": {
      "byteLimit": 2048000,
      "rowLimit": 10000
     },
     "inputWidgets": {},
     "nuid": "8250667b-eaa5-48a1-90c7-bfe11e666e32",
     "showTitle": false,
     "title": ""
    }
   },
   "outputs": [],
   "source": [
    "# Filtering rows that contain mentions\n",
    "filtered_mentions = gold_data.filter(gold_data[\"mentioned_users\"] != \"\")\n",
    "\n",
    "# Transforming mentions into an array of words\n",
    "mentions_array = filtered_mentions.select(split(col(\"mentioned_users\"), \",\").alias(\"mentioned_users\"))\n",
    "\n",
    "# Counting all occurrences of each mention\n",
    "total_mention_count = mentions_array.select(explode(col(\"mentioned_users\")).alias(\"mentioned_users\")).count()\n",
    "\n",
    "# Output the total count of mentions\n",
    "print(\"Total Count of All Mentions (Including Repeats):\", total_mention_count)\n",
    "\n",
    "# Aggregate data by mentions to count sentiment classifications\n",
    "aggregated_mentions = (gold_data\n",
    "                       .filter(gold_data[\"mentioned_users\"] != \"\")\n",
    "                       .groupBy('mentioned_users')\n",
    "                       .agg(\n",
    "                           sum(when(col('predicted_sentiment') == 'POS', 1).otherwise(0)).alias('count_positive'),\n",
    "                           sum(when(col('predicted_sentiment') == 'NEG', 1).otherwise(0)).alias('count_negative'),\n",
    "                           sum(when(col('predicted_sentiment') == 'NEU', 1).otherwise(0)).alias('count_neutral'),\n",
    "                           count(\"*\").alias(\"total_mentions\"),\n",
    "                           min('timestamp').alias('earliest_mention'), \n",
    "                           max('timestamp').alias('latest_mention')\n",
    "                        )\n",
    "                       .orderBy(desc('total_mentions'))\n",
    "                      )\n"
   ]
  },
  {
   "cell_type": "code",
   "execution_count": 0,
   "metadata": {
    "application/vnd.databricks.v1+cell": {
     "cellMetadata": {
      "byteLimit": 2048000,
      "rowLimit": 10000
     },
     "inputWidgets": {},
     "nuid": "f3319fcf-3a4e-4558-87c1-a607d01294d3",
     "showTitle": false,
     "title": ""
    }
   },
   "outputs": [],
   "source": [
    "# Display the aggregated DataFrame\n",
    "display(aggregated_mentions)\n"
   ]
  },
  {
   "cell_type": "code",
   "execution_count": 0,
   "metadata": {
    "application/vnd.databricks.v1+cell": {
     "cellMetadata": {},
     "inputWidgets": {},
     "nuid": "8dbe4842-4e7b-4b8e-a267-71ac6da2edbc",
     "showTitle": false,
     "title": ""
    }
   },
   "outputs": [],
   "source": [
    "\n",
    "# Selecting and visualizing the top 20 positive mentions\n",
    "top_positive_mentions = (aggregated_mentions\n",
    "                         .orderBy(desc(\"count_positive\"))\n",
    "                         .limit(20)\n",
    "                         )\n",
    "\n"
   ]
  },
  {
   "cell_type": "code",
   "execution_count": 0,
   "metadata": {
    "application/vnd.databricks.v1+cell": {
     "cellMetadata": {},
     "inputWidgets": {},
     "nuid": "e78e8570-9e92-42ca-816a-2277459ab9a7",
     "showTitle": false,
     "title": ""
    }
   },
   "outputs": [],
   "source": [
    "# Convert Spark DataFrame to Pandas for plotting\n",
    "pandas_positive_mentions = top_positive_mentions.toPandas()\n",
    "\n",
    "# Create a bar chart for positive mentions\n",
    "positive_mentions_fig = px.bar(pandas_positive_mentions, x='mentioned_users', y='count_positive', title='Top 20 Positive Mentions')\n",
    "positive_mentions_fig.show()\n"
   ]
  },
  {
   "cell_type": "code",
   "execution_count": 0,
   "metadata": {
    "application/vnd.databricks.v1+cell": {
     "cellMetadata": {},
     "inputWidgets": {},
     "nuid": "4c728050-9875-4937-b61d-a5198eec3df7",
     "showTitle": false,
     "title": ""
    }
   },
   "outputs": [],
   "source": [
    "# Selecting and visualizing the top 20 negative mentions\n",
    "top_negative_mentions = (aggregated_mentions\n",
    "                         .orderBy(desc(\"count_negative\"))\n",
    "                         .limit(20)\n",
    "                         )\n"
   ]
  },
  {
   "cell_type": "code",
   "execution_count": 0,
   "metadata": {
    "application/vnd.databricks.v1+cell": {
     "cellMetadata": {},
     "inputWidgets": {},
     "nuid": "b9eda790-984f-4e46-ad12-a8c646a13675",
     "showTitle": false,
     "title": ""
    }
   },
   "outputs": [],
   "source": [
    "# Convert Spark DataFrame to Pandas for plotting\n",
    "pandas_negative_mentions = top_negative_mentions.toPandas()\n",
    "\n",
    "# Create a bar chart for negative mentions\n",
    "negative_mentions_fig = px.bar(pandas_negative_mentions, x='mentioned_users', y='count_negative', title='Top 20 Negative Mentions')\n",
    "negative_mentions_fig.show()"
   ]
  },
  {
   "cell_type": "markdown",
   "metadata": {
    "application/vnd.databricks.v1+cell": {
     "cellMetadata": {
      "byteLimit": 2048000,
      "rowLimit": 10000
     },
     "inputWidgets": {},
     "nuid": "5d5add3f-0c13-4d81-86d8-12cf3cfdd2c8",
     "showTitle": false,
     "title": ""
    }
   },
   "source": [
    "## 9.0 Clean up and completion of your pipeline\n",
    "- using the utilities what streams are running? If any.\n",
    "- Stop all active streams\n",
    "- print out the elapsed time of your notebook."
   ]
  },
  {
   "cell_type": "code",
   "execution_count": 0,
   "metadata": {
    "application/vnd.databricks.v1+cell": {
     "cellMetadata": {
      "byteLimit": 2048000,
      "rowLimit": 10000
     },
     "inputWidgets": {},
     "nuid": "ea759fc8-1d78-4d6d-b571-e2e256448b76",
     "showTitle": false,
     "title": ""
    }
   },
   "outputs": [],
   "source": [
    "# Get the notebooks ending time note START_TIME was established in the include file when the notebook started.\n",
    "END_TIME = time.time()"
   ]
  },
  {
   "cell_type": "markdown",
   "metadata": {
    "application/vnd.databricks.v1+cell": {
     "cellMetadata": {
      "byteLimit": 2048000,
      "rowLimit": 10000
     },
     "inputWidgets": {},
     "nuid": "b88fc0e5-f50c-4ed1-9480-16a4c8a44b30",
     "showTitle": false,
     "title": ""
    }
   },
   "source": [
    "## 10.0 How Optimized is your Spark Application (Grad Students Only)\n",
    "Graduate students (registered for the DSCC-402 section of the course) are required to do this section.  This is a written analysis using the Spark UI (link to screen shots) that support your analysis of your pipelines execution and what is driving its performance.\n",
    "Recall that Spark Optimization has 5 significant dimensions of considertation:\n",
    "- Spill: write to executor disk due to lack of memory\n",
    "- Skew: imbalance in partition size\n",
    "- Shuffle: network io moving data between executors (wide transforms)\n",
    "- Storage: inefficiency due to disk storage format (small files, location)\n",
    "- Serialization: distribution of code segments across the cluster\n",
    "\n",
    "Comment on each of the dimentions of performance and how your impelementation is or is not being affected.  Use specific information in the Spark UI to support your description.  \n",
    "\n",
    "Note: you can take sreenshots of the Spark UI from your project runs in databricks and then link to those pictures by storing them as a publicly accessible file on your cloud drive (google, one drive, etc.)\n",
    "\n",
    "References:\n",
    "- [Spark UI Reference Reference](https://spark.apache.org/docs/latest/web-ui.html#web-ui)\n",
    "- [Spark UI Simulator](https://www.databricks.training/spark-ui-simulator/index.html)"
   ]
  },
  {
   "cell_type": "markdown",
   "metadata": {
    "application/vnd.databricks.v1+cell": {
     "cellMetadata": {
      "byteLimit": 2048000,
      "rowLimit": 10000
     },
     "inputWidgets": {},
     "nuid": "c8d0be26-5b54-4aac-914c-af73e75c43a3",
     "showTitle": false,
     "title": ""
    }
   },
   "source": []
  },
  {
   "cell_type": "markdown",
   "metadata": {
    "application/vnd.databricks.v1+cell": {
     "cellMetadata": {
      "byteLimit": 2048000,
      "rowLimit": 10000
     },
     "inputWidgets": {},
     "nuid": "a0a5707d-a5ca-4e87-9e74-3b13d00337b0",
     "showTitle": false,
     "title": ""
    }
   },
   "source": [
    "## Optimization Logs of Spark Application\n",
    "\n",
    "I've found that running the code to create the Gold Delta table produces constant errors. At first, I assumed I needed more time to make a stream, but looking deeper into the log, I realized that the executors might need adjustment.\n",
    "\n",
    "df = spark.read.format(\"image\").load(\"/Workspace/Repos/labuser104917-3007337@vocareum.com/dscc402/final_project/Assets/error_no_space.png\")\n",
    "\n",
    "\n",
    "\n",
    "Therefore, I've been exploring various ways to optimize the process, and the collaborative effort can lead to a solution. \n",
    "<br>\n",
    "\n",
    "### 1. Manage Executor Logs\n",
    "I've looked for tasks that significantly **spill** data to disk. This typically happens when memory cannot hold all the data required for operations like joins or aggregations.\n",
    "\n",
    "\n",
    "\n",
    "- Cluster Management: With more nodes, cluster management becomes more complex. Issues such as network partitions or synchronization become more prominent. \n",
    "\n",
    "\n",
    "\n",
    "\n"
   ]
  },
  {
   "cell_type": "markdown",
   "metadata": {
    "application/vnd.databricks.v1+cell": {
     "cellMetadata": {},
     "inputWidgets": {},
     "nuid": "57cd6cdf-381f-49c6-9b52-5119482848ec",
     "showTitle": false,
     "title": ""
    }
   },
   "source": [
    "### 3. Minor Optimizations\n",
    "- Checkpoint Directory Maintenance: Ensure the checkpoint directory is not accumulating excessive metadata or checkpoint files that consume disk space. I removed checkpoint data and cleaned old checkpoints since the streaming was not initiated. \n",
    "- Managing Temporary Files: Clearing any unnecessary data or logs that may consume disk space is a necessary task. This includes temporary files, cache, or old application logs. However, the process resulted in FALSE, indicating that the task was not fully successful."
   ]
  },
  {
   "cell_type": "code",
   "execution_count": 0,
   "metadata": {
    "application/vnd.databricks.v1+cell": {
     "cellMetadata": {},
     "inputWidgets": {},
     "nuid": "0c3f219a-8ee3-43d2-bf6c-4dce59889561",
     "showTitle": false,
     "title": ""
    }
   },
   "outputs": [],
   "source": [
    "# Optimizing checkpoint directories \n",
    "# RESULT: TRUE\n",
    "\n",
    "# dbutils.fs.rm(USER_DIR + \"/gold2.delta\", True)\n",
    "# dbutils.fs.rm(USER_DIR + \"/gold2.checkpoint\", True)"
   ]
  },
  {
   "cell_type": "code",
   "execution_count": 0,
   "metadata": {
    "application/vnd.databricks.v1+cell": {
     "cellMetadata": {},
     "inputWidgets": {},
     "nuid": "7c4b86be-449b-428f-9274-d2b7ea7593ab",
     "showTitle": false,
     "title": ""
    }
   },
   "outputs": [],
   "source": [
    "# Try to reduce temporary files to secure more data usages\n",
    "# RESULT: FALSE \n",
    "\n",
    "# dbutils.fs.rm('/path/to/temp/files', recurse=True)"
   ]
  }
 ],
 "metadata": {
  "application/vnd.databricks.v1+notebook": {
   "dashboards": [],
   "language": "python",
   "notebookMetadata": {
    "mostRecentlyExecutedCommandWithImplicitDF": {
     "commandId": 205537447457952,
     "dataframes": [
      "_sqldf"
     ]
    },
    "pythonIndentUnit": 4,
    "widgetLayout": [
     {
      "breakBefore": false,
      "name": "clear_previous_run",
      "width": 203
     },
     {
      "breakBefore": false,
      "name": "stop_streams",
      "width": 203
     }
    ]
   },
   "notebookName": "Starter Streaming Tweet Sentiment - Spring 2024 Final Project",
   "widgets": {
    "clear_previous_run": {
     "currentValue": "No",
     "nuid": "11b43403-c70f-41ef-ab0e-41172583baaa",
     "typedWidgetInfo": null,
     "widgetInfo": {
      "widgetType": "dropdown",
      "defaultValue": "No",
      "label": null,
      "name": "clear_previous_run",
      "options": {
       "widgetType": "dropdown",
       "autoCreated": null,
       "choices": [
        "No",
        "Yes"
       ]
      }
     }
    },
    "optimize_tables": {
     "currentValue": "No",
     "nuid": "d27f2950-3146-4010-8bc6-58c47a93e7a9",
     "typedWidgetInfo": null,
     "widgetInfo": {
      "widgetType": "dropdown",
      "defaultValue": "No",
      "label": null,
      "name": "optimize_tables",
      "options": {
       "widgetType": "dropdown",
       "autoCreated": null,
       "choices": [
        "No",
        "Yes"
       ]
      }
     }
    },
    "stop_streams": {
     "currentValue": "No",
     "nuid": "d70a2190-266e-473c-86a7-84f7bf56b386",
     "typedWidgetInfo": null,
     "widgetInfo": {
      "widgetType": "dropdown",
      "defaultValue": "No",
      "label": null,
      "name": "stop_streams",
      "options": {
       "widgetType": "dropdown",
       "autoCreated": null,
       "choices": [
        "No",
        "Yes"
       ]
      }
     }
    }
   }
  }
 },
 "nbformat": 4,
 "nbformat_minor": 0
}
